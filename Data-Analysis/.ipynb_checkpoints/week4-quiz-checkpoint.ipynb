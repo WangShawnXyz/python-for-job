{
 "cells": [
  {
   "cell_type": "code",
   "execution_count": 2,
   "metadata": {},
   "outputs": [],
   "source": [
    "import sys\n",
    "import numpy as np\n",
    "\n",
    "# 苹果股票数据\n",
    "c, v = np.loadtxt(\"./data/week4/data.csv\", delimiter=\",\", usecols=(6, 7), unpack=True)"
   ]
  },
  {
   "cell_type": "code",
   "execution_count": 4,
   "metadata": {},
   "outputs": [
    {
     "name": "stdout",
     "output_type": "stream",
     "text": [
      "VWAP =  350.5895493532009\n",
      "mean =  351.0376666666667\n",
      "twap =  352.4283218390804\n"
     ]
    }
   ],
   "source": [
    "vwap = np.average(c, weights=v) # 计算加权平均价格\n",
    "print(\"VWAP = \", vwap)\n",
    "print(\"mean = \", np.mean(c))\n",
    "\n",
    "t = np.arange(len(c))\n",
    "print(\"twap = \", np.average(c, weights=t))"
   ]
  },
  {
   "cell_type": "code",
   "execution_count": null,
   "metadata": {},
   "outputs": [],
   "source": []
  }
 ],
 "metadata": {
  "kernelspec": {
   "display_name": "Python 3",
   "language": "python",
   "name": "python3"
  },
  "language_info": {
   "codemirror_mode": {
    "name": "ipython",
    "version": 3
   },
   "file_extension": ".py",
   "mimetype": "text/x-python",
   "name": "python",
   "nbconvert_exporter": "python",
   "pygments_lexer": "ipython3",
   "version": "3.6.4"
  }
 },
 "nbformat": 4,
 "nbformat_minor": 2
}
