{
 "cells": [
  {
   "cell_type": "code",
   "execution_count": 1,
   "metadata": {},
   "outputs": [],
   "source": [
    "import numpy as np"
   ]
  },
  {
   "cell_type": "code",
   "execution_count": 2,
   "metadata": {},
   "outputs": [
    {
     "name": "stdout",
     "output_type": "stream",
     "text": [
      "[0 1 2 3 4 5 6 7 8 9]\n",
      "[0.         1.         1.41421356 1.73205081 2.         2.23606798\n",
      " 2.44948974 2.64575131 2.82842712 3.        ]\n",
      "[1.00000000e+00 2.71828183e+00 7.38905610e+00 2.00855369e+01\n",
      " 5.45981500e+01 1.48413159e+02 4.03428793e+02 1.09663316e+03\n",
      " 2.98095799e+03 8.10308393e+03]\n"
     ]
    }
   ],
   "source": [
    "\"\"\"通用函数\"\"\"\n",
    "arr = np.arange(10)\n",
    "print(arr)\n",
    "print(np.sqrt(arr))\n",
    "print(np.exp(arr)) # 求以e为底， arr为指数的函数值"
   ]
  },
  {
   "cell_type": "code",
   "execution_count": 3,
   "metadata": {},
   "outputs": [
    {
     "name": "stdout",
     "output_type": "stream",
     "text": [
      "[ 0.3847758   0.07076918 -1.14268194 -2.10482022 -1.28194997 -1.89612103\n",
      "  0.27468064  0.51243487] [ 0.76580997 -0.25814649 -0.71210514  1.29709108 -0.09345348  0.18836199\n",
      " -0.08282441 -1.64772387]\n",
      "[ 0.76580997  0.07076918 -0.71210514  1.29709108 -0.09345348  0.18836199\n",
      "  0.27468064  0.51243487]\n"
     ]
    }
   ],
   "source": [
    "x = np.random.randn(8)\n",
    "y = np.random.randn(8)\n",
    "print(x, y)\n",
    "print(np.maximum(x, y)) # 返回两个数组对应位置的最大值"
   ]
  },
  {
   "cell_type": "code",
   "execution_count": 4,
   "metadata": {},
   "outputs": [
    {
     "name": "stdout",
     "output_type": "stream",
     "text": [
      "[-1.82370718  1.91123071  9.07054421 -0.97992945 -3.28230507  0.14244786\n",
      " -3.37377396]\n",
      "(array([-0.82370718,  0.91123071,  0.07054421, -0.97992945, -0.28230507,\n",
      "        0.14244786, -0.37377396]), array([-1.,  1.,  9., -0., -3.,  0., -3.]))\n"
     ]
    }
   ],
   "source": [
    "arr = np.random.randn(7) * 5\n",
    "print(arr)\n",
    "print(np.modf(arr)) # 返回两个数组， 分别是对应位置的整数部分和小数部分"
   ]
  },
  {
   "cell_type": "code",
   "execution_count": 5,
   "metadata": {},
   "outputs": [
    {
     "name": "stdout",
     "output_type": "stream",
     "text": [
      "[[-5.   -4.99 -4.98 ...  4.97  4.98  4.99]\n",
      " [-5.   -4.99 -4.98 ...  4.97  4.98  4.99]\n",
      " [-5.   -4.99 -4.98 ...  4.97  4.98  4.99]\n",
      " ...\n",
      " [-5.   -4.99 -4.98 ...  4.97  4.98  4.99]\n",
      " [-5.   -4.99 -4.98 ...  4.97  4.98  4.99]\n",
      " [-5.   -4.99 -4.98 ...  4.97  4.98  4.99]]\n",
      "[[-5.   -5.   -5.   ... -5.   -5.   -5.  ]\n",
      " [-4.99 -4.99 -4.99 ... -4.99 -4.99 -4.99]\n",
      " [-4.98 -4.98 -4.98 ... -4.98 -4.98 -4.98]\n",
      " ...\n",
      " [ 4.97  4.97  4.97 ...  4.97  4.97  4.97]\n",
      " [ 4.98  4.98  4.98 ...  4.98  4.98  4.98]\n",
      " [ 4.99  4.99  4.99 ...  4.99  4.99  4.99]]\n",
      "[[7.07106781 7.06400028 7.05693985 ... 7.04988652 7.05693985 7.06400028]\n",
      " [7.06400028 7.05692568 7.04985815 ... 7.04279774 7.04985815 7.05692568]\n",
      " [7.05693985 7.04985815 7.04278354 ... 7.03571603 7.04278354 7.04985815]\n",
      " ...\n",
      " [7.04988652 7.04279774 7.03571603 ... 7.0286414  7.03571603 7.04279774]\n",
      " [7.05693985 7.04985815 7.04278354 ... 7.03571603 7.04278354 7.04985815]\n",
      " [7.06400028 7.05692568 7.04985815 ... 7.04279774 7.04985815 7.05692568]]\n"
     ]
    },
    {
     "data": {
      "text/plain": [
       "<matplotlib.figure.Figure at 0x1e0e8ff36d8>"
      ]
     },
     "metadata": {},
     "output_type": "display_data"
    }
   ],
   "source": [
    "\"\"\"利用数组进行数据处理\"\"\"\n",
    "points = np.arange(-5, 5, 0.01) #一共一千个点\n",
    "xs, ys = np.meshgrid(points, points)\n",
    "print(xs)\n",
    "print(ys)\n",
    "\n",
    "import matplotlib.pyplot as plt\n",
    "\n",
    "z = np.sqrt(xs ** 2 + ys ** 2)\n",
    "print(z)\n",
    "plt.imshow(z, cmap=plt.cm.gray)\n",
    "plt.colorbar()\n",
    "plt.title(\"Image plot of $\\sqrt{x^2 + y^2}$ for a grid of values\")\n",
    "plt.draw()\n",
    "plt.show()"
   ]
  },
  {
   "cell_type": "code",
   "execution_count": 6,
   "metadata": {},
   "outputs": [
    {
     "name": "stdout",
     "output_type": "stream",
     "text": [
      "[1.1 1.2 1.3 1.4 1.5]\n",
      "[1.1, 2.2, 1.3000000000000003, 1.4000000000000004, 2.5000000000000004]\n",
      "[1.1 2.2 1.3 1.4 2.5]\n"
     ]
    }
   ],
   "source": [
    "# 将条件逻辑转换为数组运算\n",
    "xarr = np.arange(1.1, 1.6, 0.1)\n",
    "yarr = np.arange(2.1, 2.6, 0.1)\n",
    "print(xarr)\n",
    "cond = np.array([True, False, True, True, False])\n",
    "\n",
    "# python 写法\n",
    "result = [(x if c else y) for x, y, c in zip(xarr, yarr, cond)]\n",
    "print(result)\n",
    "\n",
    "# numpy写法 where\n",
    "result = np.where(cond, xarr, yarr)\n",
    "print(result)"
   ]
  },
  {
   "cell_type": "code",
   "execution_count": 7,
   "metadata": {},
   "outputs": [
    {
     "name": "stdout",
     "output_type": "stream",
     "text": [
      "[[-1.05337448  0.41719208 -1.51380183  0.6050825 ]\n",
      " [ 1.33313007  0.32990652 -1.77127431  0.44064532]\n",
      " [ 0.44011626 -0.37145408  0.36456685 -1.08452093]\n",
      " [-0.38323164  0.13257195 -0.58722299 -0.03950233]]\n",
      "[[-2  2 -2  2]\n",
      " [ 2  2 -2  2]\n",
      " [ 2 -2  2 -2]\n",
      " [-2  2 -2 -2]]\n",
      "[[-1.05337448  2.         -1.51380183  2.        ]\n",
      " [ 2.          2.         -1.77127431  2.        ]\n",
      " [ 2.         -0.37145408  2.         -1.08452093]\n",
      " [-0.38323164  2.         -0.58722299 -0.03950233]]\n"
     ]
    }
   ],
   "source": [
    "# where表达式 \n",
    "arr = np.random.randn(4, 4)\n",
    "print(arr)\n",
    "print(np.where(arr > 0, 2, -2))\n",
    "print(np.where(arr > 0, 2, arr))"
   ]
  },
  {
   "cell_type": "code",
   "execution_count": 8,
   "metadata": {},
   "outputs": [
    {
     "name": "stdout",
     "output_type": "stream",
     "text": [
      "-0.27001119300758\n",
      "-5.400223860151599\n",
      "-0.27001119300758\n",
      "-5.400223860151599\n",
      "[-0.54558478 -0.41710162  0.07646559 -0.22789215 -0.23594301]\n",
      "[-2.66099161  2.31882032 -1.50639161 -3.55166097]\n",
      "[[ 0  1  2]\n",
      " [ 3  5  7]\n",
      " [ 9 12 15]]\n",
      "[[  0   0   0]\n",
      " [  3  12  60]\n",
      " [  6  42 336]]\n"
     ]
    }
   ],
   "source": [
    "\"\"\"数学与统计学方法\"\"\"\n",
    "arr = np.random.randn(5, 4)\n",
    "# =====================\n",
    "print(arr.mean())\n",
    "print(arr.sum())\n",
    "\n",
    "print(np.mean(arr))\n",
    "print(np.sum(arr))\n",
    "# =====================\n",
    "print(arr.mean(axis=1)) # 计算某个轴上的统计值\n",
    "print(arr.sum(0))   # 还有var std min max  argmin, argmax(求最值的索引/下标) 可以选择是否计算某个轴\n",
    "\n",
    "# ======================\n",
    "# cumsum(某个方向上所有元素的累计和), cumprod（某个方向上所有元素的累计积） 必须指定轴向\n",
    "arr = np.array([[0, 1, 2], [3, 4, 5], [6, 7, 8]])\n",
    "print(arr.cumsum(0)) #每一列的累计和\n",
    "print(arr.cumprod(1)) #每一行的累计积"
   ]
  },
  {
   "cell_type": "code",
   "execution_count": 9,
   "metadata": {},
   "outputs": [
    {
     "name": "stdout",
     "output_type": "stream",
     "text": [
      "45\n",
      "True\n",
      "False\n"
     ]
    }
   ],
   "source": [
    "# 用于布尔型的数组方法\n",
    "arr = np.random.randn(100)\n",
    "print((arr > 0).sum()) #统计正值的数目\n",
    "\n",
    "bools = np.array([True, False, True, False])\n",
    "print(bools.any()) # 统计是否包含真值\n",
    "print(bools.all()) # 统计是否所有值都是真"
   ]
  },
  {
   "cell_type": "code",
   "execution_count": 10,
   "metadata": {},
   "outputs": [
    {
     "name": "stdout",
     "output_type": "stream",
     "text": [
      "[ 0.04745842  0.70807609  0.51773334 -0.33267134 -0.43443732  1.38010582\n",
      "  0.31090516  1.4537815  -0.76301131  0.66742949]\n",
      "[-0.76301131 -0.43443732 -0.33267134  0.04745842  0.31090516  0.51773334\n",
      "  0.66742949  0.70807609  1.38010582  1.4537815 ]\n",
      "[[-2.31191737 -0.86250436 -1.06962584]\n",
      " [-1.67373663 -0.47263687 -0.36166375]\n",
      " [-1.30467748 -0.17367126  0.19294313]\n",
      " [ 0.99030427 -0.16394096  0.56434785]\n",
      " [ 1.25919974  0.52567392  2.16772839]]\n",
      "********************************************************************************\n",
      "[[-2.31191737 -0.47263687 -1.06962584]\n",
      " [ 1.25919974 -0.16394096  2.16772839]\n",
      " [-1.30467748  0.52567392  0.56434785]\n",
      " [-1.67373663 -0.17367126 -0.36166375]\n",
      " [ 0.99030427 -0.86250436  0.19294313]]\n",
      "[[-2.31191737 -0.86250436 -1.06962584]\n",
      " [-1.67373663 -0.47263687 -0.36166375]\n",
      " [-1.30467748 -0.17367126  0.19294313]\n",
      " [ 0.99030427 -0.16394096  0.56434785]\n",
      " [ 1.25919974  0.52567392  2.16772839]]\n"
     ]
    }
   ],
   "source": [
    "# 排序\n",
    "arr = np.random.randn(10)\n",
    "print(arr)\n",
    "arr.sort()\n",
    "print(arr)\n",
    "\n",
    "arr = np.random.randn(5, 3)\n",
    "new_arr = np.sort(arr, 0) # 不改变原来数组的值\n",
    "print(new_arr) \n",
    "print(\"*\" * 80)\n",
    "print(arr)\n",
    "arr.sort(0) # 按照第0个维度排序->改变原数组\n",
    "print(arr)\n"
   ]
  },
  {
   "cell_type": "code",
   "execution_count": 11,
   "metadata": {},
   "outputs": [
    {
     "name": "stdout",
     "output_type": "stream",
     "text": [
      "-1.6389635451096976\n"
     ]
    }
   ],
   "source": [
    "# 大数组排序\n",
    "large_arr = np.random.randn(10000)\n",
    "large_arr.sort()\n",
    "print(large_arr[int(0.05 * len(large_arr))]) # 计算5%分位数"
   ]
  },
  {
   "cell_type": "code",
   "execution_count": 13,
   "metadata": {},
   "outputs": [
    {
     "name": "stdout",
     "output_type": "stream",
     "text": [
      "['Alex' 'Bob' 'Shawn']\n",
      "[1 2 3 4 5]\n",
      "\n",
      "[ True  True  True  True False False False  True  True False]\n"
     ]
    }
   ],
   "source": [
    "# 唯一化以及其他集合操作\n",
    "\n",
    "names = np.array([\"Bob\", \"Bob\", \"Alex\", \"Alex\", \"Shawn\", \"Bob\"])\n",
    "print(np.unique(names))\n",
    "ints = np.array([1, 1, 1, 1, 2, 2, 3, 4, 4, 5])\n",
    "print(np.unique(ints))\n",
    "print()\n",
    "\n",
    "# 是否在数组中\n",
    "print(np.in1d(ints, [1, 9, 4]))"
   ]
  },
  {
   "cell_type": "code",
   "execution_count": 14,
   "metadata": {},
   "outputs": [
    {
     "data": {
      "text/plain": [
       "array([[ 28,  64],\n",
       "       [ 67, 181]])"
      ]
     },
     "execution_count": 14,
     "metadata": {},
     "output_type": "execute_result"
    }
   ],
   "source": [
    "x = np.array([[1, 2, 3], [4, 5, 6]])\n",
    "y = np.array([[6, 23], [-1, 7], [8, 9]])\n",
    "x.dot(y)"
   ]
  },
  {
   "cell_type": "code",
   "execution_count": 18,
   "metadata": {},
   "outputs": [
    {
     "name": "stdout",
     "output_type": "stream",
     "text": [
      "[[1 2 3]\n",
      " [4 5 6]]\n",
      "[ 6. 15.]\n"
     ]
    }
   ],
   "source": [
    "print(x)\n",
    "print(np.dot(x, np.ones(3)))\n",
    "# print(x)"
   ]
  },
  {
   "cell_type": "code",
   "execution_count": 21,
   "metadata": {},
   "outputs": [
    {
     "name": "stdout",
     "output_type": "stream",
     "text": [
      "[[-0.20470766  0.47894334 -0.51943872 -0.5557303   1.96578057]\n",
      " [ 1.39340583  0.09290788  0.28174615  0.76902257  1.24643474]\n",
      " [ 1.00718936 -1.29622111  0.27499163  0.22891288  1.35291684]\n",
      " [ 0.88642934 -2.00163731 -0.37184254  1.66902531 -0.43856974]\n",
      " [-0.53974145  0.47698501  3.24894392 -1.02122752 -0.5770873 ]] [[ 4.07499325 -3.30588372 -1.30731336  3.44655322  2.61973938]\n",
      " [-3.30588372  6.15227438  1.71493621 -4.31933033 -0.09378269]\n",
      " [-1.30731336  1.71493621 11.11872134 -3.37023945 -2.00972893]\n",
      " [ 3.44655322 -4.31933033 -3.37023945  4.78118413  0.03314614]\n",
      " [ 2.61973938 -0.09378269 -2.00972893  0.03314614  7.77364994]]\n",
      "********************\n",
      "[[ 3.03609983 -0.1808297  -0.68779105 -2.82852163 -1.19110946]\n",
      " [-0.1808297   0.50346566  0.12149398  0.6701624   0.0955664 ]\n",
      " [-0.68779105  0.12149398  0.29039878  0.80814474  0.30488423]\n",
      " [-2.82852163  0.6701624   0.80814474  3.4151871   1.15567215]\n",
      " [-1.19110946  0.0955664   0.30488423  1.15567215  0.60509381]]\n",
      "====================\n",
      "[[ 1.00000000e+00 -1.17862974e-16  4.94120710e-17 -8.14756693e-17\n",
      "  -3.30477598e-16]\n",
      " [-2.21699032e-15  1.00000000e+00 -1.17657989e-16 -3.51127522e-16\n",
      "   2.93616650e-16]\n",
      " [-2.54537098e-16  5.67906043e-16  1.00000000e+00  2.46417976e-16\n",
      "   5.33179854e-16]\n",
      " [ 1.16128309e-15 -5.23513914e-16  6.47057407e-16  1.00000000e+00\n",
      "   1.56363660e-16]\n",
      " [ 1.47346124e-15  2.59426884e-17  6.94955016e-16 -7.57842552e-16\n",
      "   1.00000000e+00]]\n"
     ]
    }
   ],
   "source": [
    "np.random.seed(12345)\n",
    "from numpy import linalg\n",
    "\n",
    "X = np.random.randn(5, 5)\n",
    "mat = X.T.dot(X)\n",
    "print(X, mat)\n",
    "print(\"*\" * 20)\n",
    "print(linalg.inv(mat))\n",
    "print(\"=\" * 20)\n",
    "print(mat.dot(linalg.inv(mat)))"
   ]
  },
  {
   "cell_type": "code",
   "execution_count": 22,
   "metadata": {},
   "outputs": [
    {
     "name": "stdout",
     "output_type": "stream",
     "text": [
      "[[-0.58826489 -0.26193758 -0.20133733 -0.32332868 -0.66351712]\n",
      " [ 0.47723645 -0.66087638  0.17336075 -0.55009068  0.05323603]\n",
      " [ 0.18872339 -0.08064978 -0.96349735 -0.02658815  0.16983822]\n",
      " [-0.49754346  0.16181903  0.01788116 -0.55811936  0.64377648]\n",
      " [-0.37818485 -0.67966266  0.02761245  0.5297685   0.33707238]]\n",
      "[[ -6.92714002   7.38899524   6.12272905  -7.11625341  -4.92150833]\n",
      " [  0.          -3.97347612  -0.86707993   2.97472904  -5.74024113]\n",
      " [  0.           0.         -10.26810228   1.89090298   1.60790112]\n",
      " [  0.           0.           0.          -1.29964934   3.35772244]\n",
      " [  0.           0.           0.           0.           0.55705805]]\n"
     ]
    }
   ],
   "source": [
    "q, r = linalg.qr(mat)\n",
    "print(q)\n",
    "print(r)"
   ]
  },
  {
   "cell_type": "code",
   "execution_count": 50,
   "metadata": {},
   "outputs": [
    {
     "name": "stdout",
     "output_type": "stream",
     "text": [
      "8 -43\n",
      "-40\n",
      "4.474878311157227\n"
     ]
    }
   ],
   "source": [
    "# ============== 模拟随机漫步 =================\n",
    "NUMS = 1000\n",
    "import time\n",
    "import random\n",
    "\n",
    "start = time.time()\n",
    "\n",
    "res = 0\n",
    "pos = []\n",
    "\n",
    "for x in range(1000):\n",
    "    step = random.choice([-1, 1])\n",
    "    res += step\n",
    "    pos.append(res)\n",
    "print(max(pos), min(pos))\n",
    "print(res)\n",
    "print((time.time() - start)*1000)\n"
   ]
  },
  {
   "cell_type": "code",
   "execution_count": 51,
   "metadata": {},
   "outputs": [
    {
     "name": "stdout",
     "output_type": "stream",
     "text": [
      "-10 17 -19\n",
      "0.9262561798095703\n"
     ]
    }
   ],
   "source": [
    "start = time.time()\n",
    "steps = np.random.choice([-1, 1], size=1000)\n",
    "positions = steps.cumsum()\n",
    "print(steps.sum(), positions.max(), positions.min())\n",
    "print((time.time()-start)*1000)"
   ]
  },
  {
   "cell_type": "code",
   "execution_count": 74,
   "metadata": {},
   "outputs": [
    {
     "name": "stdout",
     "output_type": "stream",
     "text": [
      "[[   1   -1   -1 ...   -1   -1   -1]\n",
      " [   2    0   -2 ...   -2    0    0]\n",
      " [   1   -1   -3 ...   -3   -1    1]\n",
      " ...\n",
      " [  -4   -2 -158 ... -216   26  -94]\n",
      " [  -5   -1 -159 ... -217   25  -95]\n",
      " [  -6   -2 -158 ... -216   24  -96]]\n",
      "240 -316\n",
      "==================================================\n",
      "4926\n"
     ]
    }
   ],
   "source": [
    "# 一次模拟五千个随机漫步\n",
    "walks = np.random.choice([-1, 1], size=(5000, 1000))\n",
    "res = walks.cumsum(0)\n",
    "print(res)\n",
    "print(res.max(), res.min())\n",
    "print(\"=\" * 50)\n",
    "# 随机漫步走到30的情况\n",
    "hits = (np.abs(res) >= 30).any(1)\n",
    "print(hits.sum())"
   ]
  },
  {
   "cell_type": "code",
   "execution_count": 71,
   "metadata": {},
   "outputs": [
    {
     "name": "stdout",
     "output_type": "stream",
     "text": [
      "[False False False False False False False False False False False False\n",
      " False False False False False False False False False False False False\n",
      " False False False False False False False False False False False False\n",
      " False False False False False False False False False False False False\n",
      " False False False False False False False False False False False False\n",
      " False False False False False False False False False False False False\n",
      " False False False False False False False False False False False False\n",
      " False False False False False False False False False False False False\n",
      " False False False False False False False False False False False False\n",
      " False False False False False False False False False False False False\n",
      " False False False False False False False False False False False False\n",
      " False False False False False False False False False False False False\n",
      " False False False False False False False False False False False False\n",
      " False False False False False False False False False False False False\n",
      " False False False False False False False False False False False False\n",
      " False False False False False False False False False False False False\n",
      " False False False False False False False False False False False False\n",
      " False False False False False False False False False False False False\n",
      " False False False False False False False False False False False False\n",
      " False False False False False False False False False False False False\n",
      " False False False False False False False False False False False False\n",
      " False False False False False False False False False False False False\n",
      " False False False False False False False False False False False False\n",
      " False False False False False False False False False False False False\n",
      " False False False False False False False False False False False False\n",
      " False False False False False False False False False False False False\n",
      " False False False False False False False False False False False False\n",
      " False False False False False False False False False False False False\n",
      " False False False False False False False False False False False False\n",
      " False False False False False False False False False False False False\n",
      " False False False False False False False False False False False False\n",
      " False False False False False False False False False False False False\n",
      " False False False False False False False False False False False False\n",
      " False False False False False False False False False False False False\n",
      " False False False False False False False False False False False False\n",
      " False False False False False False False False False False False False\n",
      " False False False False False False False False False False False False\n",
      " False False False False False False False False False False False False\n",
      " False False False False False False False False False False False False\n",
      " False False False False False False False False False False False False\n",
      " False False False False False False False False False False False False\n",
      " False False False False False False False False False False False False\n",
      " False False False False False False False False False False False False\n",
      " False False False False False False False False False False False False\n",
      " False False False False False False False False False False False False\n",
      " False False False False False False False False False False False False\n",
      " False False False False False False False False False False False False\n",
      " False False False False False False False False False False False False\n",
      " False False False False False False False False False False False False\n",
      " False False False False False False False False False False False False\n",
      " False False False False False False False False False False False False\n",
      " False False False False False False False False False False False False\n",
      " False False False False False False False False False False False False\n",
      " False False False False False False False False False False False False\n",
      " False False False False False False False False False False False False\n",
      " False False False False False False False False False False False False\n",
      " False False False False False False False False False False False False\n",
      " False False False False False False False False False False False False\n",
      " False False False False False False False False False False False False\n",
      " False False False False False False False False False False False False\n",
      " False False False False False False False False False False False False\n",
      " False False False False False False False False False False False False\n",
      " False False False False False False False False False False False False\n",
      " False False False False False False False False False False False False\n",
      " False False False False False False False False False False False False\n",
      " False False False False False False False False False False False False\n",
      " False False False False False False False False False False False False\n",
      " False False False False False False False False False False False False\n",
      " False False False False False False False False False False False False\n",
      " False False False False False False False False False False False False\n",
      " False False False False False False False False False False False False\n",
      " False False False False False False False False False False False False\n",
      " False False False False False False False False False False False False\n",
      " False False False False False False False False False False False False\n",
      " False False False False False False False False False False False False\n",
      " False False False False False False False False False False False False\n",
      " False False False False False False False False False False False False\n",
      " False False False False False False False False False False False False\n",
      " False False False False False False False False False False False False\n",
      " False False False False False False False False False False False False\n",
      " False False False False False False False False False False False False\n",
      " False False False False False False False False False False False False\n",
      " False False False False False False False False False False False False\n",
      " False False False False]\n"
     ]
    }
   ],
   "source": [
    "# 正态分布随机漫步\n",
    "\n",
    "steps = np.random.normal"
   ]
  },
  {
   "cell_type": "code",
   "execution_count": null,
   "metadata": {},
   "outputs": [],
   "source": []
  }
 ],
 "metadata": {
  "kernelspec": {
   "display_name": "Python 3",
   "language": "python",
   "name": "python3"
  },
  "language_info": {
   "codemirror_mode": {
    "name": "ipython",
    "version": 3
   },
   "file_extension": ".py",
   "mimetype": "text/x-python",
   "name": "python",
   "nbconvert_exporter": "python",
   "pygments_lexer": "ipython3",
   "version": "3.6.4"
  }
 },
 "nbformat": 4,
 "nbformat_minor": 2
}
