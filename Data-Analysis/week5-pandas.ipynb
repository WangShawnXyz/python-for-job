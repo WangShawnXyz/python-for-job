{
 "cells": [
  {
   "cell_type": "code",
   "execution_count": 1,
   "metadata": {
    "collapsed": true
   },
   "outputs": [],
   "source": [
    "import numpy as np\n",
    "import pandas as pd\n",
    "import sys\n",
    "from pandas import Series, DataFrame\n"
   ]
  },
  {
   "cell_type": "code",
   "execution_count": 30,
   "metadata": {},
   "outputs": [
    {
     "name": "stdout",
     "output_type": "stream",
     "text": [
      "0    4\n",
      "1    7\n",
      "2   -8\n",
      "3   -2\n",
      "dtype: int64\n",
      "[ 4  7 -8 -2] RangeIndex(start=0, stop=4, step=1)\n"
     ]
    }
   ],
   "source": [
    "# Series\n",
    "obj = Series([4, 7, -8, -2])\n",
    "print(obj)\n",
    "print(obj.values, obj.index)"
   ]
  },
  {
   "cell_type": "code",
   "execution_count": 31,
   "metadata": {},
   "outputs": [
    {
     "name": "stdout",
     "output_type": "stream",
     "text": [
      "a    4\n",
      "b    7\n",
      "c   -8\n",
      "d   -2\n",
      "dtype: int64\n",
      "Index(['a', 'b', 'c', 'd'], dtype='object')\n"
     ]
    }
   ],
   "source": [
    "obj2 = Series([4, 7, -8, -2], index=[\"a\", \"b\", \"c\", \"d\"])\n",
    "print(obj2)\n",
    "print(obj2.index)"
   ]
  },
  {
   "cell_type": "code",
   "execution_count": 32,
   "metadata": {},
   "outputs": [
    {
     "name": "stdout",
     "output_type": "stream",
     "text": [
      "4\n"
     ]
    }
   ],
   "source": [
    "print(obj2[\"a\"])"
   ]
  },
  {
   "cell_type": "code",
   "execution_count": 33,
   "metadata": {},
   "outputs": [
    {
     "data": {
      "text/plain": [
       "a    4\n",
       "b    7\n",
       "dtype: int64"
      ]
     },
     "execution_count": 33,
     "metadata": {},
     "output_type": "execute_result"
    }
   ],
   "source": [
    "obj2[obj2>0]"
   ]
  },
  {
   "cell_type": "code",
   "execution_count": 34,
   "metadata": {},
   "outputs": [
    {
     "data": {
      "text/plain": [
       "a     8\n",
       "b    14\n",
       "c   -16\n",
       "d    -4\n",
       "dtype: int64"
      ]
     },
     "execution_count": 34,
     "metadata": {},
     "output_type": "execute_result"
    }
   ],
   "source": [
    "obj2*2"
   ]
  },
  {
   "cell_type": "code",
   "execution_count": 35,
   "metadata": {},
   "outputs": [
    {
     "data": {
      "text/plain": [
       "a      54.598150\n",
       "b    1096.633158\n",
       "c       0.000335\n",
       "d       0.135335\n",
       "dtype: float64"
      ]
     },
     "execution_count": 35,
     "metadata": {},
     "output_type": "execute_result"
    }
   ],
   "source": [
    "np.exp(obj2)"
   ]
  },
  {
   "cell_type": "code",
   "execution_count": 36,
   "metadata": {},
   "outputs": [
    {
     "data": {
      "text/plain": [
       "True"
      ]
     },
     "execution_count": 36,
     "metadata": {},
     "output_type": "execute_result"
    }
   ],
   "source": [
    "\"a\" in obj2"
   ]
  },
  {
   "cell_type": "code",
   "execution_count": 37,
   "metadata": {},
   "outputs": [
    {
     "data": {
      "text/plain": [
       "False"
      ]
     },
     "execution_count": 37,
     "metadata": {},
     "output_type": "execute_result"
    }
   ],
   "source": [
    "\"a\" in obj"
   ]
  },
  {
   "cell_type": "code",
   "execution_count": 38,
   "metadata": {},
   "outputs": [
    {
     "name": "stdout",
     "output_type": "stream",
     "text": [
      "Ohio      35000\n",
      "Oregon    16000\n",
      "Texas     40000\n",
      "Utah       5000\n",
      "dtype: int64\n"
     ]
    }
   ],
   "source": [
    "dict_data = {\"Ohio\" : 35000, \"Texas\": 40000, \"Oregon\": 16000, \"Utah\": 5000}\n",
    "obj3 = Series(dict_data)\n",
    "print(obj3)"
   ]
  },
  {
   "cell_type": "code",
   "execution_count": 39,
   "metadata": {},
   "outputs": [
    {
     "name": "stdout",
     "output_type": "stream",
     "text": [
      "California        NaN\n",
      "Ohio          35000.0\n",
      "Texas         40000.0\n",
      "Oregon        16000.0\n",
      "dtype: float64\n"
     ]
    }
   ],
   "source": [
    "states = [\"California\", \"Ohio\", \"Texas\", \"Oregon\"]\n",
    "obj4 = Series(dict_data, index=states)   # index数组里面没有的键值对被自动忽略, index里面有/字典里面没有的自动设置值为Nan\n",
    "print(obj4)"
   ]
  },
  {
   "cell_type": "code",
   "execution_count": 40,
   "metadata": {},
   "outputs": [
    {
     "name": "stdout",
     "output_type": "stream",
     "text": [
      "California     True\n",
      "Ohio          False\n",
      "Texas         False\n",
      "Oregon        False\n",
      "dtype: bool\n",
      "California    False\n",
      "Ohio           True\n",
      "Texas          True\n",
      "Oregon         True\n",
      "dtype: bool\n",
      "California     True\n",
      "Ohio          False\n",
      "Texas         False\n",
      "Oregon        False\n",
      "dtype: bool\n",
      "California    False\n",
      "Ohio           True\n",
      "Texas          True\n",
      "Oregon         True\n",
      "dtype: bool\n"
     ]
    }
   ],
   "source": [
    "print(pd.isnull(obj4)) # 判断缺失值\n",
    "print(pd.notnull(obj4))\n",
    "print(obj4.isnull())\n",
    "print(obj4.notnull())"
   ]
  },
  {
   "cell_type": "code",
   "execution_count": 41,
   "metadata": {},
   "outputs": [
    {
     "name": "stdout",
     "output_type": "stream",
     "text": [
      "California        NaN\n",
      "Ohio          70000.0\n",
      "Oregon        32000.0\n",
      "Texas         80000.0\n",
      "Utah              NaN\n",
      "dtype: float64\n"
     ]
    }
   ],
   "source": [
    "print(obj3 + obj4) #自动对齐计算"
   ]
  },
  {
   "cell_type": "code",
   "execution_count": 42,
   "metadata": {},
   "outputs": [
    {
     "name": "stdout",
     "output_type": "stream",
     "text": [
      "state\n",
      "California        NaN\n",
      "Ohio          35000.0\n",
      "Texas         40000.0\n",
      "Oregon        16000.0\n",
      "Name: population, dtype: float64\n"
     ]
    }
   ],
   "source": [
    "obj4.name = \"population\"\n",
    "obj4.index.name = \"state\"\n",
    "print(obj4)"
   ]
  },
  {
   "cell_type": "code",
   "execution_count": 43,
   "metadata": {
    "collapsed": true
   },
   "outputs": [],
   "source": [
    "# DataFrame"
   ]
  },
  {
   "cell_type": "code",
   "execution_count": 45,
   "metadata": {},
   "outputs": [
    {
     "name": "stdout",
     "output_type": "stream",
     "text": [
      "   population   state  year\n",
      "0         1.5    Ohio  2000\n",
      "1         1.7    Ohio  2001\n",
      "2         3.6    Ohio  2002\n",
      "3         2.4  Nevada  2001\n",
      "4         2.5  Nevada  2002\n"
     ]
    }
   ],
   "source": [
    "data = {\"state\" : [\"Ohio\", \"Ohio\", \"Ohio\", \"Nevada\", \"Nevada\"],\n",
    "        \"year\" : [2000, 2001, 2002, 2001, 2002],\n",
    "        \"population\" : [1.5, 1.7, 3.6, 2.4, 2.5]\n",
    "       }\n",
    "frame = DataFrame(data)\n",
    "print(frame)"
   ]
  },
  {
   "cell_type": "code",
   "execution_count": 46,
   "metadata": {},
   "outputs": [
    {
     "data": {
      "text/html": [
       "<div>\n",
       "<style>\n",
       "    .dataframe thead tr:only-child th {\n",
       "        text-align: right;\n",
       "    }\n",
       "\n",
       "    .dataframe thead th {\n",
       "        text-align: left;\n",
       "    }\n",
       "\n",
       "    .dataframe tbody tr th {\n",
       "        vertical-align: top;\n",
       "    }\n",
       "</style>\n",
       "<table border=\"1\" class=\"dataframe\">\n",
       "  <thead>\n",
       "    <tr style=\"text-align: right;\">\n",
       "      <th></th>\n",
       "      <th>year</th>\n",
       "      <th>state</th>\n",
       "      <th>population</th>\n",
       "    </tr>\n",
       "  </thead>\n",
       "  <tbody>\n",
       "    <tr>\n",
       "      <th>0</th>\n",
       "      <td>2000</td>\n",
       "      <td>Ohio</td>\n",
       "      <td>1.5</td>\n",
       "    </tr>\n",
       "    <tr>\n",
       "      <th>1</th>\n",
       "      <td>2001</td>\n",
       "      <td>Ohio</td>\n",
       "      <td>1.7</td>\n",
       "    </tr>\n",
       "    <tr>\n",
       "      <th>2</th>\n",
       "      <td>2002</td>\n",
       "      <td>Ohio</td>\n",
       "      <td>3.6</td>\n",
       "    </tr>\n",
       "    <tr>\n",
       "      <th>3</th>\n",
       "      <td>2001</td>\n",
       "      <td>Nevada</td>\n",
       "      <td>2.4</td>\n",
       "    </tr>\n",
       "    <tr>\n",
       "      <th>4</th>\n",
       "      <td>2002</td>\n",
       "      <td>Nevada</td>\n",
       "      <td>2.5</td>\n",
       "    </tr>\n",
       "  </tbody>\n",
       "</table>\n",
       "</div>"
      ],
      "text/plain": [
       "   year   state  population\n",
       "0  2000    Ohio         1.5\n",
       "1  2001    Ohio         1.7\n",
       "2  2002    Ohio         3.6\n",
       "3  2001  Nevada         2.4\n",
       "4  2002  Nevada         2.5"
      ]
     },
     "execution_count": 46,
     "metadata": {},
     "output_type": "execute_result"
    }
   ],
   "source": [
    "DataFrame(data, columns=[\"year\", \"state\", \"population\"]) # 手动指定列的顺序"
   ]
  },
  {
   "cell_type": "code",
   "execution_count": 49,
   "metadata": {},
   "outputs": [
    {
     "name": "stdout",
     "output_type": "stream",
     "text": [
      "       year   state  population debt\n",
      "one    2000    Ohio         1.5  NaN\n",
      "two    2001    Ohio         1.7  NaN\n",
      "three  2002    Ohio         3.6  NaN\n",
      "four   2001  Nevada         2.4  NaN\n",
      "five   2002  Nevada         2.5  NaN\n"
     ]
    }
   ],
   "source": [
    "frame2 = DataFrame(data, columns=[\"year\", \"state\", \"population\", \"debt\"], \n",
    "                   index=[\"one\", \"two\", \"three\", \"four\", \"five\"])\n",
    "print(frame2)"
   ]
  },
  {
   "cell_type": "code",
   "execution_count": 51,
   "metadata": {},
   "outputs": [
    {
     "name": "stdout",
     "output_type": "stream",
     "text": [
      "Index(['year', 'state', 'population', 'debt'], dtype='object')\n",
      "one        Ohio\n",
      "two        Ohio\n",
      "three      Ohio\n",
      "four     Nevada\n",
      "five     Nevada\n",
      "Name: state, dtype: object\n"
     ]
    }
   ],
   "source": [
    "print(frame2.columns)\n",
    "print(frame2[\"state\"])"
   ]
  },
  {
   "cell_type": "code",
   "execution_count": 68,
   "metadata": {},
   "outputs": [
    {
     "name": "stdout",
     "output_type": "stream",
     "text": [
      "year            2002\n",
      "state         Nevada\n",
      "population       2.5\n",
      "debt             NaN\n",
      "Name: five, dtype: object\n",
      "     year state  population debt\n",
      "one  2000  Ohio         1.5  NaN\n",
      "two  2001  Ohio         1.7  NaN\n",
      "year          2001\n",
      "state         Ohio\n",
      "population     1.7\n",
      "debt           NaN\n",
      "Name: two, dtype: object\n"
     ]
    }
   ],
   "source": [
    "print(frame2.ix[4])\n",
    "print(frame2.loc[(\"one\", \"two\"), :]) #获取行数据\n",
    "print(frame2.iloc[1]) #获取行数据"
   ]
  },
  {
   "cell_type": "code",
   "execution_count": 74,
   "metadata": {},
   "outputs": [
    {
     "name": "stdout",
     "output_type": "stream",
     "text": [
      "       year   state  population  debt\n",
      "one    2000    Ohio         1.5  16.5\n",
      "two    2001    Ohio         1.7  16.5\n",
      "three  2002    Ohio         3.6  16.5\n",
      "four   2001  Nevada         2.4  16.5\n",
      "five   2002  Nevada         2.5  16.5\n",
      "       year   state  population  debt\n",
      "one    2000    Ohio         1.5  -1.1\n",
      "two    2001    Ohio         1.7   NaN\n",
      "three  2002    Ohio         3.6  -1.1\n",
      "four   2001  Nevada         2.4   2.0\n",
      "five   2002  Nevada         2.5   NaN\n"
     ]
    }
   ],
   "source": [
    "frame2[\"debt\"] = 16.5  #批量赋值\n",
    "print(frame2)\n",
    "frame2[\"debt\"] = Series([-1.1, -1.1, 2.0], index=[\"one\", \"three\", \"four\"]) # 单独赋值, 要索引对得上\n",
    "print(frame2)"
   ]
  },
  {
   "cell_type": "code",
   "execution_count": 76,
   "metadata": {},
   "outputs": [
    {
     "name": "stdout",
     "output_type": "stream",
     "text": [
      "       year   state  population  debt  eastern\n",
      "one    2000    Ohio         1.5  -1.1     True\n",
      "two    2001    Ohio         1.7   NaN     True\n",
      "three  2002    Ohio         3.6  -1.1     True\n",
      "four   2001  Nevada         2.4   2.0    False\n",
      "five   2002  Nevada         2.5   NaN    False\n",
      "       year   state  population  debt\n",
      "one    2000    Ohio         1.5  -1.1\n",
      "two    2001    Ohio         1.7   NaN\n",
      "three  2002    Ohio         3.6  -1.1\n",
      "four   2001  Nevada         2.4   2.0\n",
      "five   2002  Nevada         2.5   NaN\n"
     ]
    }
   ],
   "source": [
    "frame2[\"eastern\"] = frame2.state == \"Ohio\" # 添加了一列\n",
    "print(frame2)\n",
    "del frame2[\"eastern\"] # 删除一列\n",
    "print(frame2)"
   ]
  },
  {
   "cell_type": "code",
   "execution_count": 78,
   "metadata": {},
   "outputs": [
    {
     "name": "stdout",
     "output_type": "stream",
     "text": [
      "      Nevada  Ohio\n",
      "2000     NaN   1.5\n",
      "2001     2.4   1.7\n",
      "2002     2.9   2.5\n"
     ]
    }
   ],
   "source": [
    "# 嵌套字典创建DataFrame\n",
    "# 外层键变成了列, 内层键变成了行标\n",
    "pop = {\n",
    "    \"Nevada\": {2001: 2.4, 2002: 2.9, },\n",
    "    \"Ohio\": {2000: 1.5, 2001: 1.7, 2002: 2.5}\n",
    "      }\n",
    "frame3 = DataFrame(pop)\n",
    "print(frame3)"
   ]
  },
  {
   "cell_type": "code",
   "execution_count": 80,
   "metadata": {},
   "outputs": [
    {
     "name": "stdout",
     "output_type": "stream",
     "text": [
      "        2000  2001  2002\n",
      "Nevada   NaN   2.4   2.9\n",
      "Ohio     1.5   1.7   2.5\n"
     ]
    }
   ],
   "source": [
    "print(frame3.T)  #转置"
   ]
  },
  {
   "cell_type": "code",
   "execution_count": 81,
   "metadata": {},
   "outputs": [
    {
     "name": "stdout",
     "output_type": "stream",
     "text": [
      "state  Nevada  Ohio\n",
      "year               \n",
      "2000      NaN   1.5\n",
      "2001      2.4   1.7\n",
      "2002      2.9   2.5\n"
     ]
    }
   ],
   "source": [
    "# 给定行列名\n",
    "frame3.index.name = \"year\"\n",
    "frame3.columns.name = \"state\"\n",
    "print(frame3)"
   ]
  },
  {
   "cell_type": "code",
   "execution_count": 83,
   "metadata": {},
   "outputs": [
    {
     "name": "stdout",
     "output_type": "stream",
     "text": [
      "[[ nan  1.5]\n",
      " [ 2.4  1.7]\n",
      " [ 2.9  2.5]]\n",
      "[[2000 'Ohio' 1.5 -1.1]\n",
      " [2001 'Ohio' 1.7 nan]\n",
      " [2002 'Ohio' 3.6 -1.1]\n",
      " [2001 'Nevada' 2.4 2.0]\n",
      " [2002 'Nevada' 2.5 nan]]\n"
     ]
    }
   ],
   "source": [
    "# 获取DataFrame的值\n",
    "print(frame3.values)\n",
    "print(frame2.values)"
   ]
  },
  {
   "cell_type": "code",
   "execution_count": 85,
   "metadata": {},
   "outputs": [
    {
     "name": "stdout",
     "output_type": "stream",
     "text": [
      "Index(['a', 'b', 'c'], dtype='object')\n"
     ]
    }
   ],
   "source": [
    "# 索引对象\n",
    "obj = Series(range(3), index=[\"a\", \"b\", \"c\"])\n",
    "index = obj.index\n",
    "print(index)\n",
    "# index对象是不可变的\n",
    "# index[1] = \"d\"\n",
    "# print(index)"
   ]
  },
  {
   "cell_type": "code",
   "execution_count": 86,
   "metadata": {},
   "outputs": [
    {
     "name": "stdout",
     "output_type": "stream",
     "text": [
      "   a   b   c   d message\n",
      "0  1   2   3   4   hello\n",
      "1  5   6   7   8   world\n",
      "2  9  10  11  12     foo\n"
     ]
    }
   ],
   "source": [
    "\"\"\"\n",
    "    # 读写文本格式数据\n",
    "\"\"\"\n",
    "\n",
    "df = pd.read_csv(\"./data/week5/ex1.csv\")\n",
    "print(df)"
   ]
  },
  {
   "cell_type": "code",
   "execution_count": 88,
   "metadata": {},
   "outputs": [
    {
     "data": {
      "text/html": [
       "<div>\n",
       "<style>\n",
       "    .dataframe thead tr:only-child th {\n",
       "        text-align: right;\n",
       "    }\n",
       "\n",
       "    .dataframe thead th {\n",
       "        text-align: left;\n",
       "    }\n",
       "\n",
       "    .dataframe tbody tr th {\n",
       "        vertical-align: top;\n",
       "    }\n",
       "</style>\n",
       "<table border=\"1\" class=\"dataframe\">\n",
       "  <thead>\n",
       "    <tr style=\"text-align: right;\">\n",
       "      <th></th>\n",
       "      <th>a</th>\n",
       "      <th>b</th>\n",
       "      <th>c</th>\n",
       "      <th>d</th>\n",
       "      <th>message</th>\n",
       "    </tr>\n",
       "  </thead>\n",
       "  <tbody>\n",
       "    <tr>\n",
       "      <th>0</th>\n",
       "      <td>1</td>\n",
       "      <td>2</td>\n",
       "      <td>3</td>\n",
       "      <td>4</td>\n",
       "      <td>hello</td>\n",
       "    </tr>\n",
       "    <tr>\n",
       "      <th>1</th>\n",
       "      <td>5</td>\n",
       "      <td>6</td>\n",
       "      <td>7</td>\n",
       "      <td>8</td>\n",
       "      <td>world</td>\n",
       "    </tr>\n",
       "    <tr>\n",
       "      <th>2</th>\n",
       "      <td>9</td>\n",
       "      <td>10</td>\n",
       "      <td>11</td>\n",
       "      <td>12</td>\n",
       "      <td>foo</td>\n",
       "    </tr>\n",
       "  </tbody>\n",
       "</table>\n",
       "</div>"
      ],
      "text/plain": [
       "   a   b   c   d message\n",
       "0  1   2   3   4   hello\n",
       "1  5   6   7   8   world\n",
       "2  9  10  11  12     foo"
      ]
     },
     "execution_count": 88,
     "metadata": {},
     "output_type": "execute_result"
    }
   ],
   "source": [
    "pd.read_table(\"./data/week5/ex1.csv\", sep=\",\")\n",
    "# print(df)"
   ]
  },
  {
   "cell_type": "code",
   "execution_count": 89,
   "metadata": {},
   "outputs": [
    {
     "data": {
      "text/html": [
       "<div>\n",
       "<style>\n",
       "    .dataframe thead tr:only-child th {\n",
       "        text-align: right;\n",
       "    }\n",
       "\n",
       "    .dataframe thead th {\n",
       "        text-align: left;\n",
       "    }\n",
       "\n",
       "    .dataframe tbody tr th {\n",
       "        vertical-align: top;\n",
       "    }\n",
       "</style>\n",
       "<table border=\"1\" class=\"dataframe\">\n",
       "  <thead>\n",
       "    <tr style=\"text-align: right;\">\n",
       "      <th></th>\n",
       "      <th>0</th>\n",
       "      <th>1</th>\n",
       "      <th>2</th>\n",
       "      <th>3</th>\n",
       "      <th>4</th>\n",
       "    </tr>\n",
       "  </thead>\n",
       "  <tbody>\n",
       "    <tr>\n",
       "      <th>0</th>\n",
       "      <td>a</td>\n",
       "      <td>b</td>\n",
       "      <td>c</td>\n",
       "      <td>d</td>\n",
       "      <td>message</td>\n",
       "    </tr>\n",
       "    <tr>\n",
       "      <th>1</th>\n",
       "      <td>1</td>\n",
       "      <td>2</td>\n",
       "      <td>3</td>\n",
       "      <td>4</td>\n",
       "      <td>hello</td>\n",
       "    </tr>\n",
       "    <tr>\n",
       "      <th>2</th>\n",
       "      <td>5</td>\n",
       "      <td>6</td>\n",
       "      <td>7</td>\n",
       "      <td>8</td>\n",
       "      <td>world</td>\n",
       "    </tr>\n",
       "    <tr>\n",
       "      <th>3</th>\n",
       "      <td>9</td>\n",
       "      <td>10</td>\n",
       "      <td>11</td>\n",
       "      <td>12</td>\n",
       "      <td>foo</td>\n",
       "    </tr>\n",
       "  </tbody>\n",
       "</table>\n",
       "</div>"
      ],
      "text/plain": [
       "   0   1   2   3        4\n",
       "0  a   b   c   d  message\n",
       "1  1   2   3   4    hello\n",
       "2  5   6   7   8    world\n",
       "3  9  10  11  12      foo"
      ]
     },
     "execution_count": 89,
     "metadata": {},
     "output_type": "execute_result"
    }
   ],
   "source": [
    "pd.read_table(\"./data/week5/ex1.csv\", sep=\",\", header=None)"
   ]
  },
  {
   "cell_type": "code",
   "execution_count": 91,
   "metadata": {},
   "outputs": [
    {
     "name": "stdout",
     "output_type": "stream",
     "text": [
      "   a   b   c   d message\n",
      "0  1   2   3   4   hello\n",
      "1  5   6   7   8   world\n",
      "2  9  10  11  12     foo\n"
     ]
    }
   ],
   "source": [
    "names = [\"a\", \"b\", \"c\", \"d\", \"message\"]\n",
    "df = pd.read_csv(\"./data/week5/ex2.csv\", names=names)\n",
    "print(df)"
   ]
  },
  {
   "cell_type": "code",
   "execution_count": 92,
   "metadata": {},
   "outputs": [
    {
     "name": "stdout",
     "output_type": "stream",
     "text": [
      "           value1  value2\n",
      "key1 key2                \n",
      "one  a          1       2\n",
      "     b          3       4\n",
      "     c          5       6\n",
      "     d          7       8\n",
      "two  a          9      10\n",
      "     b         11      12\n",
      "     c         13      14\n",
      "     d         15      16\n"
     ]
    }
   ],
   "source": [
    "parsed = pd.read_csv(\"./data/week5/csv_mindex.csv\", index_col=[\"key1\", \"key2\"])\n",
    "print(parsed)"
   ]
  },
  {
   "cell_type": "code",
   "execution_count": 94,
   "metadata": {},
   "outputs": [
    {
     "name": "stdout",
     "output_type": "stream",
     "text": [
      "['            A         B         C\\n', 'aaa -0.264438 -1.026059 -0.619500\\n', 'bbb  0.927272  0.302904 -0.032399\\n', 'ccc -0.264273 -0.386314 -0.217601\\n', 'ddd -0.871858 -0.348382  1.100491\\n']\n"
     ]
    }
   ],
   "source": [
    "listed = open(\"./data/week5/ex3.txt\").readlines()\n",
    "# listed = list(open(\"./data/week5/ex3.txt\"))\n",
    "print(listed)"
   ]
  },
  {
   "cell_type": "code",
   "execution_count": 96,
   "metadata": {},
   "outputs": [
    {
     "name": "stdout",
     "output_type": "stream",
     "text": [
      "            A         B         C\n",
      "aaa -0.264438 -1.026059 -0.619500\n",
      "bbb  0.927272  0.302904 -0.032399\n",
      "ccc -0.264273 -0.386314 -0.217601\n",
      "ddd -0.871858 -0.348382  1.100491\n"
     ]
    }
   ],
   "source": [
    "result = pd.read_table(\"./data/week5/ex3.txt\", sep=\"\\s+\")\n",
    "print(result)"
   ]
  },
  {
   "cell_type": "code",
   "execution_count": 98,
   "metadata": {},
   "outputs": [
    {
     "data": {
      "text/html": [
       "<div>\n",
       "<style>\n",
       "    .dataframe thead tr:only-child th {\n",
       "        text-align: right;\n",
       "    }\n",
       "\n",
       "    .dataframe thead th {\n",
       "        text-align: left;\n",
       "    }\n",
       "\n",
       "    .dataframe tbody tr th {\n",
       "        vertical-align: top;\n",
       "    }\n",
       "</style>\n",
       "<table border=\"1\" class=\"dataframe\">\n",
       "  <thead>\n",
       "    <tr style=\"text-align: right;\">\n",
       "      <th></th>\n",
       "      <th></th>\n",
       "      <th></th>\n",
       "      <th></th>\n",
       "      <th># hey!</th>\n",
       "    </tr>\n",
       "  </thead>\n",
       "  <tbody>\n",
       "    <tr>\n",
       "      <th>a</th>\n",
       "      <th>b</th>\n",
       "      <th>c</th>\n",
       "      <th>d</th>\n",
       "      <td>message</td>\n",
       "    </tr>\n",
       "    <tr>\n",
       "      <th># just wanted to make things more difficult for you</th>\n",
       "      <th>NaN</th>\n",
       "      <th>NaN</th>\n",
       "      <th>NaN</th>\n",
       "      <td>NaN</td>\n",
       "    </tr>\n",
       "    <tr>\n",
       "      <th># who reads CSV files with computers</th>\n",
       "      <th>anyway?</th>\n",
       "      <th>NaN</th>\n",
       "      <th>NaN</th>\n",
       "      <td>NaN</td>\n",
       "    </tr>\n",
       "    <tr>\n",
       "      <th>1</th>\n",
       "      <th>2</th>\n",
       "      <th>3</th>\n",
       "      <th>4</th>\n",
       "      <td>hello</td>\n",
       "    </tr>\n",
       "    <tr>\n",
       "      <th>5</th>\n",
       "      <th>6</th>\n",
       "      <th>7</th>\n",
       "      <th>8</th>\n",
       "      <td>world</td>\n",
       "    </tr>\n",
       "    <tr>\n",
       "      <th>9</th>\n",
       "      <th>10</th>\n",
       "      <th>11</th>\n",
       "      <th>12</th>\n",
       "      <td>foo</td>\n",
       "    </tr>\n",
       "  </tbody>\n",
       "</table>\n",
       "</div>"
      ],
      "text/plain": [
       "                                                                      # hey!\n",
       "a                                                  b        c   d    message\n",
       "# just wanted to make things more difficult for... NaN      NaN NaN      NaN\n",
       "# who reads CSV files with computers                anyway? NaN NaN      NaN\n",
       "1                                                  2        3   4      hello\n",
       "5                                                  6        7   8      world\n",
       "9                                                  10       11  12       foo"
      ]
     },
     "execution_count": 98,
     "metadata": {},
     "output_type": "execute_result"
    }
   ],
   "source": [
    "# pd.read_csv(\"./data/week5/ex4.csv\", skiprows=[0, 2, 3])\n",
    "pd.read_csv(\"./data/week5/ex4.csv\",)"
   ]
  },
  {
   "cell_type": "code",
   "execution_count": 99,
   "metadata": {},
   "outputs": [
    {
     "data": {
      "text/html": [
       "<div>\n",
       "<style>\n",
       "    .dataframe thead tr:only-child th {\n",
       "        text-align: right;\n",
       "    }\n",
       "\n",
       "    .dataframe thead th {\n",
       "        text-align: left;\n",
       "    }\n",
       "\n",
       "    .dataframe tbody tr th {\n",
       "        vertical-align: top;\n",
       "    }\n",
       "</style>\n",
       "<table border=\"1\" class=\"dataframe\">\n",
       "  <thead>\n",
       "    <tr style=\"text-align: right;\">\n",
       "      <th></th>\n",
       "      <th>a</th>\n",
       "      <th>b</th>\n",
       "      <th>c</th>\n",
       "      <th>d</th>\n",
       "      <th>message</th>\n",
       "    </tr>\n",
       "  </thead>\n",
       "  <tbody>\n",
       "    <tr>\n",
       "      <th>0</th>\n",
       "      <td>1</td>\n",
       "      <td>2</td>\n",
       "      <td>3</td>\n",
       "      <td>4</td>\n",
       "      <td>hello</td>\n",
       "    </tr>\n",
       "    <tr>\n",
       "      <th>1</th>\n",
       "      <td>5</td>\n",
       "      <td>6</td>\n",
       "      <td>7</td>\n",
       "      <td>8</td>\n",
       "      <td>world</td>\n",
       "    </tr>\n",
       "    <tr>\n",
       "      <th>2</th>\n",
       "      <td>9</td>\n",
       "      <td>10</td>\n",
       "      <td>11</td>\n",
       "      <td>12</td>\n",
       "      <td>foo</td>\n",
       "    </tr>\n",
       "  </tbody>\n",
       "</table>\n",
       "</div>"
      ],
      "text/plain": [
       "   a   b   c   d message\n",
       "0  1   2   3   4   hello\n",
       "1  5   6   7   8   world\n",
       "2  9  10  11  12     foo"
      ]
     },
     "execution_count": 99,
     "metadata": {},
     "output_type": "execute_result"
    }
   ],
   "source": [
    "pd.read_csv(\"./data/week5/ex4.csv\", skiprows=[0, 2, 3])\n"
   ]
  },
  {
   "cell_type": "code",
   "execution_count": 103,
   "metadata": {},
   "outputs": [
    {
     "name": "stdout",
     "output_type": "stream",
     "text": [
      "  something  a   b     c   d message\n",
      "0       one  1   2   3.0   4     NaN\n",
      "1       two  5   6   NaN   8     NaN\n",
      "2     three  9  10  11.0  12     foo\n"
     ]
    }
   ],
   "source": [
    "result = pd.read_csv(\"./data/week5/ex5.csv\", na_values=[\"NULL\", \"world\"])\n",
    "print(result)"
   ]
  },
  {
   "cell_type": "code",
   "execution_count": 102,
   "metadata": {},
   "outputs": [
    {
     "data": {
      "text/html": [
       "<div>\n",
       "<style>\n",
       "    .dataframe thead tr:only-child th {\n",
       "        text-align: right;\n",
       "    }\n",
       "\n",
       "    .dataframe thead th {\n",
       "        text-align: left;\n",
       "    }\n",
       "\n",
       "    .dataframe tbody tr th {\n",
       "        vertical-align: top;\n",
       "    }\n",
       "</style>\n",
       "<table border=\"1\" class=\"dataframe\">\n",
       "  <thead>\n",
       "    <tr style=\"text-align: right;\">\n",
       "      <th></th>\n",
       "      <th>something</th>\n",
       "      <th>a</th>\n",
       "      <th>b</th>\n",
       "      <th>c</th>\n",
       "      <th>d</th>\n",
       "      <th>message</th>\n",
       "    </tr>\n",
       "  </thead>\n",
       "  <tbody>\n",
       "    <tr>\n",
       "      <th>0</th>\n",
       "      <td>one</td>\n",
       "      <td>1</td>\n",
       "      <td>2</td>\n",
       "      <td>3.0</td>\n",
       "      <td>4</td>\n",
       "      <td>NaN</td>\n",
       "    </tr>\n",
       "    <tr>\n",
       "      <th>1</th>\n",
       "      <td>two</td>\n",
       "      <td>5</td>\n",
       "      <td>6</td>\n",
       "      <td>NaN</td>\n",
       "      <td>8</td>\n",
       "      <td>world</td>\n",
       "    </tr>\n",
       "    <tr>\n",
       "      <th>2</th>\n",
       "      <td>three</td>\n",
       "      <td>9</td>\n",
       "      <td>10</td>\n",
       "      <td>11.0</td>\n",
       "      <td>12</td>\n",
       "      <td>foo</td>\n",
       "    </tr>\n",
       "  </tbody>\n",
       "</table>\n",
       "</div>"
      ],
      "text/plain": [
       "  something  a   b     c   d message\n",
       "0       one  1   2   3.0   4     NaN\n",
       "1       two  5   6   NaN   8   world\n",
       "2     three  9  10  11.0  12     foo"
      ]
     },
     "execution_count": 102,
     "metadata": {},
     "output_type": "execute_result"
    }
   ],
   "source": [
    "pd.read_csv(\"./data/week5/ex5.csv\")"
   ]
  },
  {
   "cell_type": "code",
   "execution_count": 104,
   "metadata": {},
   "outputs": [
    {
     "data": {
      "text/html": [
       "<div>\n",
       "<style>\n",
       "    .dataframe thead tr:only-child th {\n",
       "        text-align: right;\n",
       "    }\n",
       "\n",
       "    .dataframe thead th {\n",
       "        text-align: left;\n",
       "    }\n",
       "\n",
       "    .dataframe tbody tr th {\n",
       "        vertical-align: top;\n",
       "    }\n",
       "</style>\n",
       "<table border=\"1\" class=\"dataframe\">\n",
       "  <thead>\n",
       "    <tr style=\"text-align: right;\">\n",
       "      <th></th>\n",
       "      <th>something</th>\n",
       "      <th>a</th>\n",
       "      <th>b</th>\n",
       "      <th>c</th>\n",
       "      <th>d</th>\n",
       "      <th>message</th>\n",
       "    </tr>\n",
       "  </thead>\n",
       "  <tbody>\n",
       "    <tr>\n",
       "      <th>0</th>\n",
       "      <td>one</td>\n",
       "      <td>1</td>\n",
       "      <td>2</td>\n",
       "      <td>3.0</td>\n",
       "      <td>4</td>\n",
       "      <td>NaN</td>\n",
       "    </tr>\n",
       "    <tr>\n",
       "      <th>1</th>\n",
       "      <td>NaN</td>\n",
       "      <td>5</td>\n",
       "      <td>6</td>\n",
       "      <td>NaN</td>\n",
       "      <td>8</td>\n",
       "      <td>world</td>\n",
       "    </tr>\n",
       "    <tr>\n",
       "      <th>2</th>\n",
       "      <td>three</td>\n",
       "      <td>9</td>\n",
       "      <td>10</td>\n",
       "      <td>11.0</td>\n",
       "      <td>12</td>\n",
       "      <td>NaN</td>\n",
       "    </tr>\n",
       "  </tbody>\n",
       "</table>\n",
       "</div>"
      ],
      "text/plain": [
       "  something  a   b     c   d message\n",
       "0       one  1   2   3.0   4     NaN\n",
       "1       NaN  5   6   NaN   8   world\n",
       "2     three  9  10  11.0  12     NaN"
      ]
     },
     "execution_count": 104,
     "metadata": {},
     "output_type": "execute_result"
    }
   ],
   "source": [
    "sentinels = {'message': [\"foo\", \"NA\"], \"something\": [\"two\"]}\n",
    "pd.read_csv(\"./data/week5/ex5.csv\", na_values=sentinels) # 为每一列指定不同的缺失值"
   ]
  },
  {
   "cell_type": "code",
   "execution_count": 105,
   "metadata": {},
   "outputs": [
    {
     "name": "stdout",
     "output_type": "stream",
     "text": [
      "           one       two     three      four key\n",
      "0     0.467976 -0.038649 -0.295344 -1.824726   L\n",
      "1    -0.358893  1.404453  0.704965 -0.200638   B\n",
      "2    -0.501840  0.659254 -0.421691 -0.057688   G\n",
      "3     0.204886  1.074134  1.388361 -0.982404   R\n",
      "4     0.354628 -0.133116  0.283763 -0.837063   Q\n",
      "5     1.817480  0.742273  0.419395 -2.251035   Q\n",
      "6    -0.776764  0.935518 -0.332872 -1.875641   U\n",
      "7    -0.913135  1.530624 -0.572657  0.477252   K\n",
      "8     0.358480 -0.497572 -0.367016  0.507702   S\n",
      "9    -1.740877 -1.160417 -1.637830  2.172201   G\n",
      "10    0.240564 -0.328249  1.252155  1.072796   8\n",
      "11    0.764018  1.165476 -0.639544  1.495258   R\n",
      "12    0.571035 -0.310537  0.582437 -0.298765   1\n",
      "13    2.317658  0.430710 -1.334216  0.199679   P\n",
      "14    1.547771 -1.119753 -2.277634  0.329586   J\n",
      "15   -1.310608  0.401719 -1.000987  1.156708   E\n",
      "16   -0.088496  0.634712  0.153324  0.415335   B\n",
      "17   -0.018663 -0.247487 -1.446522  0.750938   A\n",
      "18   -0.070127 -1.579097  0.120892  0.671432   F\n",
      "19   -0.194678 -0.492039  2.359605  0.319810   H\n",
      "20   -0.248618  0.868707 -0.492226 -0.717959   W\n",
      "21   -1.091549 -0.867110 -0.647760 -0.832562   C\n",
      "22    0.641404 -0.138822 -0.621963 -0.284839   C\n",
      "23    1.216408  0.992687  0.165162 -0.069619   V\n",
      "24   -0.564474  0.792832  0.747053  0.571675   I\n",
      "25    1.759879 -0.515666 -0.230481  1.362317   S\n",
      "26    0.126266  0.309281  0.382820 -0.239199   L\n",
      "27    1.334360 -0.100152 -0.840731 -0.643967   6\n",
      "28   -0.737620  0.278087 -0.053235 -0.950972   J\n",
      "29   -1.148486 -0.986292 -0.144963  0.124362   Y\n",
      "...        ...       ...       ...       ...  ..\n",
      "9970  0.633495 -0.186524  0.927627  0.143164   4\n",
      "9971  0.308636 -0.112857  0.762842 -1.072977   1\n",
      "9972 -1.627051 -0.978151  0.154745 -1.229037   Z\n",
      "9973  0.314847  0.097989  0.199608  0.955193   P\n",
      "9974  1.666907  0.992005  0.496128 -0.686391   S\n",
      "9975  0.010603  0.708540 -1.258711  0.226541   K\n",
      "9976  0.118693 -0.714455 -0.501342 -0.254764   K\n",
      "9977  0.302616 -2.011527 -0.628085  0.768827   H\n",
      "9978 -0.098572  1.769086 -0.215027 -0.053076   A\n",
      "9979 -0.019058  1.964994  0.738538 -0.883776   F\n",
      "9980 -0.595349  0.001781 -1.423355 -1.458477   M\n",
      "9981  1.392170 -1.396560 -1.425306 -0.847535   H\n",
      "9982 -0.896029 -0.152287  1.924483  0.365184   6\n",
      "9983 -2.274642 -0.901874  1.500352  0.996541   N\n",
      "9984 -0.301898  1.019906  1.102160  2.624526   I\n",
      "9985 -2.548389 -0.585374  1.496201 -0.718815   D\n",
      "9986 -0.064588  0.759292 -1.568415 -0.420933   E\n",
      "9987 -0.143365 -1.111760 -1.815581  0.435274   2\n",
      "9988 -0.070412 -1.055921  0.338017 -0.440763   X\n",
      "9989  0.649148  0.994273 -1.384227  0.485120   Q\n",
      "9990 -0.370769  0.404356 -1.051628 -1.050899   8\n",
      "9991 -0.409980  0.155627 -0.818990  1.277350   W\n",
      "9992  0.301214 -1.111203  0.668258  0.671922   A\n",
      "9993  1.821117  0.416445  0.173874  0.505118   X\n",
      "9994  0.068804  1.322759  0.802346  0.223618   H\n",
      "9995  2.311896 -0.417070 -1.409599 -0.515821   L\n",
      "9996 -0.479893 -0.650419  0.745152 -0.646038   E\n",
      "9997  0.523331  0.787112  0.486066  1.093156   K\n",
      "9998 -0.362559  0.598894 -1.843201  0.887292   G\n",
      "9999 -0.096376 -1.012999 -0.657431 -0.573315   0\n",
      "\n",
      "[10000 rows x 5 columns]\n"
     ]
    }
   ],
   "source": [
    "# 逐行读取文本文件\n",
    "result = pd.read_csv(\"./data/week5/ex6.csv\")\n",
    "print(result)"
   ]
  },
  {
   "cell_type": "code",
   "execution_count": 108,
   "metadata": {},
   "outputs": [
    {
     "data": {
      "text/html": [
       "<div>\n",
       "<style>\n",
       "    .dataframe thead tr:only-child th {\n",
       "        text-align: right;\n",
       "    }\n",
       "\n",
       "    .dataframe thead th {\n",
       "        text-align: left;\n",
       "    }\n",
       "\n",
       "    .dataframe tbody tr th {\n",
       "        vertical-align: top;\n",
       "    }\n",
       "</style>\n",
       "<table border=\"1\" class=\"dataframe\">\n",
       "  <thead>\n",
       "    <tr style=\"text-align: right;\">\n",
       "      <th></th>\n",
       "      <th>one</th>\n",
       "      <th>two</th>\n",
       "      <th>three</th>\n",
       "      <th>four</th>\n",
       "      <th>key</th>\n",
       "    </tr>\n",
       "  </thead>\n",
       "  <tbody>\n",
       "    <tr>\n",
       "      <th>0</th>\n",
       "      <td>0.467976</td>\n",
       "      <td>-0.038649</td>\n",
       "      <td>-0.295344</td>\n",
       "      <td>-1.824726</td>\n",
       "      <td>L</td>\n",
       "    </tr>\n",
       "    <tr>\n",
       "      <th>1</th>\n",
       "      <td>-0.358893</td>\n",
       "      <td>1.404453</td>\n",
       "      <td>0.704965</td>\n",
       "      <td>-0.200638</td>\n",
       "      <td>B</td>\n",
       "    </tr>\n",
       "    <tr>\n",
       "      <th>2</th>\n",
       "      <td>-0.501840</td>\n",
       "      <td>0.659254</td>\n",
       "      <td>-0.421691</td>\n",
       "      <td>-0.057688</td>\n",
       "      <td>G</td>\n",
       "    </tr>\n",
       "    <tr>\n",
       "      <th>3</th>\n",
       "      <td>0.204886</td>\n",
       "      <td>1.074134</td>\n",
       "      <td>1.388361</td>\n",
       "      <td>-0.982404</td>\n",
       "      <td>R</td>\n",
       "    </tr>\n",
       "    <tr>\n",
       "      <th>4</th>\n",
       "      <td>0.354628</td>\n",
       "      <td>-0.133116</td>\n",
       "      <td>0.283763</td>\n",
       "      <td>-0.837063</td>\n",
       "      <td>Q</td>\n",
       "    </tr>\n",
       "    <tr>\n",
       "      <th>5</th>\n",
       "      <td>1.817480</td>\n",
       "      <td>0.742273</td>\n",
       "      <td>0.419395</td>\n",
       "      <td>-2.251035</td>\n",
       "      <td>Q</td>\n",
       "    </tr>\n",
       "    <tr>\n",
       "      <th>6</th>\n",
       "      <td>-0.776764</td>\n",
       "      <td>0.935518</td>\n",
       "      <td>-0.332872</td>\n",
       "      <td>-1.875641</td>\n",
       "      <td>U</td>\n",
       "    </tr>\n",
       "    <tr>\n",
       "      <th>7</th>\n",
       "      <td>-0.913135</td>\n",
       "      <td>1.530624</td>\n",
       "      <td>-0.572657</td>\n",
       "      <td>0.477252</td>\n",
       "      <td>K</td>\n",
       "    </tr>\n",
       "    <tr>\n",
       "      <th>8</th>\n",
       "      <td>0.358480</td>\n",
       "      <td>-0.497572</td>\n",
       "      <td>-0.367016</td>\n",
       "      <td>0.507702</td>\n",
       "      <td>S</td>\n",
       "    </tr>\n",
       "    <tr>\n",
       "      <th>9</th>\n",
       "      <td>-1.740877</td>\n",
       "      <td>-1.160417</td>\n",
       "      <td>-1.637830</td>\n",
       "      <td>2.172201</td>\n",
       "      <td>G</td>\n",
       "    </tr>\n",
       "  </tbody>\n",
       "</table>\n",
       "</div>"
      ],
      "text/plain": [
       "        one       two     three      four key\n",
       "0  0.467976 -0.038649 -0.295344 -1.824726   L\n",
       "1 -0.358893  1.404453  0.704965 -0.200638   B\n",
       "2 -0.501840  0.659254 -0.421691 -0.057688   G\n",
       "3  0.204886  1.074134  1.388361 -0.982404   R\n",
       "4  0.354628 -0.133116  0.283763 -0.837063   Q\n",
       "5  1.817480  0.742273  0.419395 -2.251035   Q\n",
       "6 -0.776764  0.935518 -0.332872 -1.875641   U\n",
       "7 -0.913135  1.530624 -0.572657  0.477252   K\n",
       "8  0.358480 -0.497572 -0.367016  0.507702   S\n",
       "9 -1.740877 -1.160417 -1.637830  2.172201   G"
      ]
     },
     "execution_count": 108,
     "metadata": {},
     "output_type": "execute_result"
    }
   ],
   "source": [
    "pd.read_csv(\"./data/week5/ex6.csv\", nrows=10)"
   ]
  },
  {
   "cell_type": "code",
   "execution_count": 129,
   "metadata": {},
   "outputs": [],
   "source": [
    "# 分块读取\n",
    "# chunk = pd.read_csv(\"./data/week5/ex6.csv\", chunksize=1000)\n",
    "chunk = pd.read_csv(\"./data/week5/ex6.csv\")\n",
    "# print(chunk.read())"
   ]
  },
  {
   "cell_type": "code",
   "execution_count": 138,
   "metadata": {},
   "outputs": [
    {
     "name": "stdout",
     "output_type": "stream",
     "text": [
      "0    151.0\n",
      "1    146.0\n",
      "2    152.0\n",
      "3    162.0\n",
      "4    171.0\n",
      "5    157.0\n",
      "6    166.0\n",
      "7    164.0\n",
      "8    162.0\n",
      "9    150.0\n",
      "A    320.0\n",
      "B    302.0\n",
      "C    286.0\n",
      "D    320.0\n",
      "E    368.0\n",
      "F    335.0\n",
      "G    308.0\n",
      "H    330.0\n",
      "I    327.0\n",
      "J    337.0\n",
      "K    334.0\n",
      "L    346.0\n",
      "M    338.0\n",
      "N    306.0\n",
      "O    343.0\n",
      "P    324.0\n",
      "Q    340.0\n",
      "R    318.0\n",
      "S    308.0\n",
      "T    304.0\n",
      "U    326.0\n",
      "V    328.0\n",
      "W    305.0\n",
      "X    364.0\n",
      "Y    314.0\n",
      "Z    288.0\n",
      "dtype: float64\n"
     ]
    }
   ],
   "source": [
    "chunk = pd.read_csv(\"./data/week5/ex6.csv\", chunksize=1000)\n",
    "tot = Series([])\n",
    "for _ in chunk:\n",
    "    tot = tot.add(_[\"key\"].value_counts(), fill_value=0)\n",
    "print(tot)"
   ]
  },
  {
   "cell_type": "code",
   "execution_count": 139,
   "metadata": {
    "collapsed": true
   },
   "outputs": [],
   "source": [
    "# 文件导出\n",
    "tot.to_csv(\"./data/week5/tot.csv\")"
   ]
  },
  {
   "cell_type": "code",
   "execution_count": 140,
   "metadata": {},
   "outputs": [
    {
     "name": "stdout",
     "output_type": "stream",
     "text": [
      "0    151.0\n",
      "1    146.0\n",
      "2    152.0\n",
      "3    162.0\n",
      "4    171.0\n",
      "5    157.0\n",
      "6    166.0\n",
      "7    164.0\n",
      "8    162.0\n",
      "9    150.0\n",
      "A    320.0\n",
      "B    302.0\n",
      "C    286.0\n",
      "D    320.0\n",
      "E    368.0\n",
      "F    335.0\n",
      "G    308.0\n",
      "H    330.0\n",
      "I    327.0\n",
      "J    337.0\n",
      "K    334.0\n",
      "L    346.0\n",
      "M    338.0\n",
      "N    306.0\n",
      "O    343.0\n",
      "P    324.0\n",
      "Q    340.0\n",
      "R    318.0\n",
      "S    308.0\n",
      "T    304.0\n",
      "U    326.0\n",
      "V    328.0\n",
      "W    305.0\n",
      "X    364.0\n",
      "Y    314.0\n",
      "Z    288.0\n",
      "dtype: float64\n"
     ]
    }
   ],
   "source": [
    "csv = Series.from_csv(\"./data/week5/tot.csv\")\n",
    "print(csv)"
   ]
  },
  {
   "cell_type": "code",
   "execution_count": 147,
   "metadata": {},
   "outputs": [
    {
     "name": "stdout",
     "output_type": "stream",
     "text": [
      "0\n",
      "['a', 'b', 'c']\n",
      "['1', '2', '3']\n",
      "['1', '2', '3', '4']\n"
     ]
    }
   ],
   "source": [
    "# 手工处理分隔符\n",
    "import csv\n",
    "f = open(\"./data/week5/ex7.csv\")\n",
    "# print(f.read())\n",
    "reader = csv.reader(f)\n",
    "print(reader.line_num)\n",
    "for line in reader:\n",
    "    print(line)"
   ]
  },
  {
   "cell_type": "code",
   "execution_count": 148,
   "metadata": {},
   "outputs": [
    {
     "name": "stdout",
     "output_type": "stream",
     "text": [
      "{'a': ['1', '2', '3'], 'b': ['1', '2', '3', '4']}\n"
     ]
    }
   ],
   "source": [
    "lines = list(csv.reader(open(\"./data/week5/ex7.csv\")))\n",
    "header, value = lines[0], lines[1:]\n",
    "data_dict = {k:v for k, v in zip(header, value)}\n",
    "print(data_dict)"
   ]
  },
  {
   "cell_type": "code",
   "execution_count": 152,
   "metadata": {},
   "outputs": [
    {
     "data": {
      "text/html": [
       "<div>\n",
       "<style>\n",
       "    .dataframe thead tr:only-child th {\n",
       "        text-align: right;\n",
       "    }\n",
       "\n",
       "    .dataframe thead th {\n",
       "        text-align: left;\n",
       "    }\n",
       "\n",
       "    .dataframe tbody tr th {\n",
       "        vertical-align: top;\n",
       "    }\n",
       "</style>\n",
       "<table border=\"1\" class=\"dataframe\">\n",
       "  <thead>\n",
       "    <tr style=\"text-align: right;\">\n",
       "      <th></th>\n",
       "      <th>one</th>\n",
       "      <th>two</th>\n",
       "      <th>three</th>\n",
       "    </tr>\n",
       "  </thead>\n",
       "  <tbody>\n",
       "    <tr>\n",
       "      <th>0</th>\n",
       "      <td>1</td>\n",
       "      <td>2</td>\n",
       "      <td>3</td>\n",
       "    </tr>\n",
       "    <tr>\n",
       "      <th>1</th>\n",
       "      <td>4</td>\n",
       "      <td>5</td>\n",
       "      <td>6</td>\n",
       "    </tr>\n",
       "    <tr>\n",
       "      <th>2</th>\n",
       "      <td>7</td>\n",
       "      <td>8</td>\n",
       "      <td>9</td>\n",
       "    </tr>\n",
       "  </tbody>\n",
       "</table>\n",
       "</div>"
      ],
      "text/plain": [
       "   one  two  three\n",
       "0    1    2      3\n",
       "1    4    5      6\n",
       "2    7    8      9"
      ]
     },
     "execution_count": 152,
     "metadata": {},
     "output_type": "execute_result"
    }
   ],
   "source": [
    "class My_dialect(csv.Dialect):\n",
    "    lineterminator = \"\\n\"\n",
    "    delimiter = \";\"\n",
    "    quotechar = '\"'\n",
    "    quoting = csv.QUOTE_MINIMAL\n",
    "\n",
    "with open(\"./data/week5/mydata.csv\", \"w\") as f:\n",
    "    writer = csv.writer(f, dialect=My_dialect)\n",
    "    writer.writerow((\"one\", \"two\", \"three\"))\n",
    "    writer.writerow((1, 2, 3)) \n",
    "    writer.writerow((4, 5, 6))\n",
    "    writer.writerow((7, 8, 9)) \n",
    "pd.read_table(\"./data/week5/mydata.csv\", sep=\";\")"
   ]
  },
  {
   "cell_type": "code",
   "execution_count": 160,
   "metadata": {},
   "outputs": [
    {
     "name": "stdout",
     "output_type": "stream",
     "text": [
      "<xlwt.Worksheet.Worksheet object at 0x7f9506501438>\n",
      "[[ 1  2  3  4  5  6  7  8]\n",
      " [ 9 10 11 12 13 14 15 16]\n",
      " [17 18 19 20 21 22 23 24]\n",
      " [25 26 27 28 29 30 31 32]\n",
      " [33 34 35 36 37 38 39 40]\n",
      " [41 42 43 44 45 46 47 48]\n",
      " [49 50 51 52 53 54 55 56]\n",
      " [57 58 59 60 61 62 63 64]]\n"
     ]
    }
   ],
   "source": [
    "# excel数据\n",
    "# 生成xls工作薄\n",
    "import xlrd\n",
    "import xlwt\n",
    "\n",
    "wb = xlwt.Workbook()\n",
    "\n",
    "wb.add_sheet(\"first_sheet\", cell_overwrite_ok=True)\n",
    "wb.get_active_sheet()\n",
    "\n",
    "ws_1 = wb.get_sheet(0)\n",
    "print(ws_1)\n",
    "ws_2 = wb.add_sheet(\"second_sheet\")\n",
    "\n",
    "data = np.arange(1, 65).reshape((8, 8))\n",
    "print(data)\n",
    "ws_1.write(0, 0, 100) # 写数据, 每次只能写一个格子\n",
    "\n",
    "for c in range(data.shape[0]):\n",
    "    for r in range(data.shape[1]):\n",
    "        ws_1.write(c, r, int(data[c, r]))\n",
    "        ws_2.write(c, r, int(data[r, c]))\n",
    "wb.save(\"./data/week5/workbook.xls\")"
   ]
  },
  {
   "cell_type": "code",
   "execution_count": 161,
   "metadata": {},
   "outputs": [
    {
     "name": "stdout",
     "output_type": "stream",
     "text": [
      "<xlrd.book.Book object at 0x7f9506501198> ['first_sheet', 'second_sheet']\n"
     ]
    }
   ],
   "source": [
    "# 从工作薄里面读数据\n",
    "book = xlrd.open_workbook(\"./data/week5/workbook.xls\")\n",
    "print(book, book.sheet_names())"
   ]
  },
  {
   "cell_type": "code",
   "execution_count": 164,
   "metadata": {},
   "outputs": [
    {
     "name": "stdout",
     "output_type": "stream",
     "text": [
      "8 8\n"
     ]
    }
   ],
   "source": [
    "sheet_1 = book.sheet_by_name(\"first_sheet\")\n",
    "sheet_2 = book.sheet_by_index(1)\n",
    "print(sheet_1.ncols, sheet_1.nrows)"
   ]
  },
  {
   "cell_type": "code",
   "execution_count": 171,
   "metadata": {},
   "outputs": [
    {
     "name": "stdout",
     "output_type": "stream",
     "text": [
      "1.0\t2.0\t3.0\t4.0\t5.0\t6.0\t7.0\t8.0\t\n",
      "9.0\t10.0\t11.0\t12.0\t13.0\t14.0\t15.0\t16.0\t\n",
      "17.0\t18.0\t19.0\t20.0\t21.0\t22.0\t23.0\t24.0\t\n",
      "25.0\t26.0\t27.0\t28.0\t29.0\t30.0\t31.0\t32.0\t\n",
      "33.0\t34.0\t35.0\t36.0\t37.0\t38.0\t39.0\t40.0\t\n",
      "41.0\t42.0\t43.0\t44.0\t45.0\t46.0\t47.0\t48.0\t\n",
      "49.0\t50.0\t51.0\t52.0\t53.0\t54.0\t55.0\t56.0\t\n",
      "57.0\t58.0\t59.0\t60.0\t61.0\t62.0\t63.0\t64.0\t\n"
     ]
    }
   ],
   "source": [
    "for c in range(sheet_1.ncols):\n",
    "    for r in range(sheet_1.nrows):\n",
    "        print(sheet_1.cell(c, r).value, end=\"\\t\")\n",
    "    print()"
   ]
  },
  {
   "cell_type": "code",
   "execution_count": 173,
   "metadata": {},
   "outputs": [
    {
     "name": "stdout",
     "output_type": "stream",
     "text": [
      "[number:3.0, number:11.0, number:19.0, number:27.0, number:35.0, number:43.0, number:51.0, number:59.0] [9.0, 10.0, 11.0, 12.0, 13.0, 14.0, 15.0, 16.0]\n"
     ]
    }
   ],
   "source": [
    "print(sheet_2.row(2), sheet_2.col_values(1))"
   ]
  },
  {
   "cell_type": "code",
   "execution_count": 175,
   "metadata": {},
   "outputs": [
    {
     "name": "stdout",
     "output_type": "stream",
     "text": [
      "    0   1   2   3   4   5   6   7\n",
      "0   1   2   3   4   5   6   7   8\n",
      "1   9  10  11  12  13  14  15  16\n",
      "2  17  18  19  20  21  22  23  24\n",
      "3  25  26  27  28  29  30  31  32\n",
      "4  33  34  35  36  37  38  39  40\n",
      "5  41  42  43  44  45  46  47  48\n",
      "6  49  50  51  52  53  54  55  56\n",
      "7  57  58  59  60  61  62  63  64\n"
     ]
    }
   ],
   "source": [
    "# 使用pandas读取xls\n",
    "xls_file = pd.ExcelFile(\"./data/week5/workbook.xls\")\n",
    "table = xls_file.parse(\"first_sheet\", header=None)\n",
    "print(table)"
   ]
  },
  {
   "cell_type": "code",
   "execution_count": 178,
   "metadata": {},
   "outputs": [
    {
     "name": "stdout",
     "output_type": "stream",
     "text": [
      "{'employees': [{'firstName': 'Bill', 'lastName': 'Gates'}, {'firstName': 'George', 'lastName': 'Bush'}, {'firstName': 'Thomas', 'lastName': 'Carter'}]}\n"
     ]
    }
   ],
   "source": [
    "# 读取JSON\n",
    "import json\n",
    "\n",
    "\n",
    "obj = \"\"\"\n",
    "{\n",
    "    \"employees\": [\n",
    "        { \"firstName\":\"Bill\" , \"lastName\":\"Gates\" },\n",
    "        { \"firstName\":\"George\" , \"lastName\":\"Bush\" },\n",
    "        { \"firstName\":\"Thomas\" , \"lastName\":\"Carter\" }\n",
    "        ]\n",
    "}\n",
    "\"\"\"\n",
    "result = json.loads(obj)\n",
    "print(result)"
   ]
  },
  {
   "cell_type": "code",
   "execution_count": 183,
   "metadata": {},
   "outputs": [
    {
     "name": "stdout",
     "output_type": "stream",
     "text": [
      "{\"employees\": [{\"firstName\": \"Bill\", \"lastName\": \"Gates\"}, {\"firstName\": \"George\", \"lastName\": \"Bush\"}, {\"firstName\": \"Thomas\", \"lastName\": \"Carter\"}]}\n",
      "<class 'str'>\n"
     ]
    }
   ],
   "source": [
    "asjson = json.dumps(result)\n",
    "print(asjson)\n",
    "print(type(asjson))"
   ]
  },
  {
   "cell_type": "code",
   "execution_count": 186,
   "metadata": {},
   "outputs": [
    {
     "name": "stdout",
     "output_type": "stream",
     "text": [
      "  firstName lastName\n",
      "0      Bill    Gates\n",
      "1    George     Bush\n",
      "2    Thomas   Carter\n"
     ]
    }
   ],
   "source": [
    "employees = DataFrame(result[\"employees\"], columns=[\"firstName\", \"lastName\"])\n",
    "print(employees)"
   ]
  },
  {
   "cell_type": "code",
   "execution_count": 188,
   "metadata": {},
   "outputs": [
    {
     "name": "stdout",
     "output_type": "stream",
     "text": [
      "   a   b   c   d message\n",
      "0  1   2   3   4   hello\n",
      "1  5   6   7   8   world\n",
      "2  9  10  11  12     foo\n",
      "   a   b   c   d message\n",
      "0  1   2   3   4   hello\n",
      "1  5   6   7   8   world\n",
      "2  9  10  11  12     foo\n"
     ]
    }
   ],
   "source": [
    "# 持久化对象pickle\n",
    "# import pickle\n",
    "\n",
    "frame = pd.read_csv(\"./data/week5/ex1.csv\")\n",
    "print(frame)\n",
    "frame.to_pickle(\"./data/week5/ex1.csv.pickle\")\n",
    "\n",
    "_ = pd.read_pickle(\"./data/week5/ex1.csv.pickle\")\n",
    "print(_)"
   ]
  },
  {
   "cell_type": "code",
   "execution_count": 189,
   "metadata": {},
   "outputs": [
    {
     "name": "stdout",
     "output_type": "stream",
     "text": [
      "<Response [200]>\n"
     ]
    }
   ],
   "source": [
    "# 使用HTML和 Web API\n",
    "import requests\n",
    "url = \"https://api.github.com/repos/pydata/pandas/milestones/28/labels\"\n",
    "resp = requests.get(url)\n",
    "print(resp)"
   ]
  },
  {
   "cell_type": "code",
   "execution_count": 190,
   "metadata": {},
   "outputs": [
    {
     "name": "stdout",
     "output_type": "stream",
     "text": [
      "     color  default        id             name  \\\n",
      "0   e10c02    False     76811              Bug   \n",
      "1   4E9A06    False     76812      Enhancement   \n",
      "2   FCE94F    False    127681         Refactor   \n",
      "3   75507B    False    129350            Build   \n",
      "4   3465A4    False    134699             Docs   \n",
      "5   AFEEEE    False    211840       Timeseries   \n",
      "6   729FCF    False    233160          Groupby   \n",
      "7   06909A    False   2301354          Data IO   \n",
      "8   8AE234    False   2413328    Visualization   \n",
      "9   0b02e1    False   2822098         Indexing   \n",
      "10  d7e102    False   2822342     Missing-data   \n",
      "11  a10c02    False   8935311      Performance   \n",
      "12  02d7e1    False  13098779        Reshaping   \n",
      "13  e102d8    False  31404521           Dtypes   \n",
      "14  DDDDDD    False  32933285            Admin   \n",
      "15  AD7FA8    False  35818298       API Design   \n",
      "16  ffa0ff    False  42670965  Error Reporting   \n",
      "17  006b75    False  47223669          Numeric   \n",
      "18  5319e7    False  47229171           IO CSV   \n",
      "19  5319e7    False  47232590           IO SQL   \n",
      "20  a2bca7    False  48070600               CI   \n",
      "21  fbca04    False  49094459        Internals   \n",
      "22  5319e7    False  49597148        Timedelta   \n",
      "23  0052cc    False  53181044        Frequency   \n",
      "24  fbca04    False  57186974          Windows   \n",
      "25  eb6420    False  57296398            Algos   \n",
      "26  5319e7    False  60458168        Timezones   \n",
      "27  eb6420    False  60635328           Period   \n",
      "28  207de5    False  71268330       MultiIndex   \n",
      "29  e11d21    False  78527356      Categorical   \n",
      "\n",
      "                                                  url  \n",
      "0   https://api.github.com/repos/pandas-dev/pandas...  \n",
      "1   https://api.github.com/repos/pandas-dev/pandas...  \n",
      "2   https://api.github.com/repos/pandas-dev/pandas...  \n",
      "3   https://api.github.com/repos/pandas-dev/pandas...  \n",
      "4   https://api.github.com/repos/pandas-dev/pandas...  \n",
      "5   https://api.github.com/repos/pandas-dev/pandas...  \n",
      "6   https://api.github.com/repos/pandas-dev/pandas...  \n",
      "7   https://api.github.com/repos/pandas-dev/pandas...  \n",
      "8   https://api.github.com/repos/pandas-dev/pandas...  \n",
      "9   https://api.github.com/repos/pandas-dev/pandas...  \n",
      "10  https://api.github.com/repos/pandas-dev/pandas...  \n",
      "11  https://api.github.com/repos/pandas-dev/pandas...  \n",
      "12  https://api.github.com/repos/pandas-dev/pandas...  \n",
      "13  https://api.github.com/repos/pandas-dev/pandas...  \n",
      "14  https://api.github.com/repos/pandas-dev/pandas...  \n",
      "15  https://api.github.com/repos/pandas-dev/pandas...  \n",
      "16  https://api.github.com/repos/pandas-dev/pandas...  \n",
      "17  https://api.github.com/repos/pandas-dev/pandas...  \n",
      "18  https://api.github.com/repos/pandas-dev/pandas...  \n",
      "19  https://api.github.com/repos/pandas-dev/pandas...  \n",
      "20  https://api.github.com/repos/pandas-dev/pandas...  \n",
      "21  https://api.github.com/repos/pandas-dev/pandas...  \n",
      "22  https://api.github.com/repos/pandas-dev/pandas...  \n",
      "23  https://api.github.com/repos/pandas-dev/pandas...  \n",
      "24  https://api.github.com/repos/pandas-dev/pandas...  \n",
      "25  https://api.github.com/repos/pandas-dev/pandas...  \n",
      "26  https://api.github.com/repos/pandas-dev/pandas...  \n",
      "27  https://api.github.com/repos/pandas-dev/pandas...  \n",
      "28  https://api.github.com/repos/pandas-dev/pandas...  \n",
      "29  https://api.github.com/repos/pandas-dev/pandas...  \n"
     ]
    }
   ],
   "source": [
    "data = json.loads(resp.text)\n",
    "issue_labels = DataFrame(data)\n",
    "print(issue_labels)"
   ]
  },
  {
   "cell_type": "code",
   "execution_count": 191,
   "metadata": {
    "collapsed": true
   },
   "outputs": [],
   "source": [
    "# 使用数据库\n"
   ]
  },
  {
   "cell_type": "code",
   "execution_count": null,
   "metadata": {
    "collapsed": true
   },
   "outputs": [],
   "source": []
  }
 ],
 "metadata": {
  "kernelspec": {
   "display_name": "Python 3",
   "language": "python",
   "name": "python3"
  },
  "language_info": {
   "codemirror_mode": {
    "name": "ipython",
    "version": 3
   },
   "file_extension": ".py",
   "mimetype": "text/x-python",
   "name": "python",
   "nbconvert_exporter": "python",
   "pygments_lexer": "ipython3",
   "version": "3.6.1"
  }
 },
 "nbformat": 4,
 "nbformat_minor": 2
}
