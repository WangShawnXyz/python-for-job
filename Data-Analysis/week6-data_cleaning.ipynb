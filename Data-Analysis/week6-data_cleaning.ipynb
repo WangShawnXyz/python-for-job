{
 "cells": [
  {
   "cell_type": "code",
   "execution_count": 1,
   "metadata": {},
   "outputs": [
    {
     "data": {
      "text/plain": [
       "'\\n# 数据整理与数据预处理\\n\\n* 缺失值处理\\n    - 删除记录\\n    - 数据插补: *牛顿插值法, 拉格朗日插值法\\n        -- 均值/中位数/众数插补\\n        -- 使用固定值\\n        -- 最近邻插补\\n        -- 回归法\\n        -- 插值法\\n    - 不处理\\n* 异常值\\n'"
      ]
     },
     "execution_count": 1,
     "metadata": {},
     "output_type": "execute_result"
    }
   ],
   "source": [
    "\"\"\"\n",
    "# 数据整理与数据预处理\n",
    "\n",
    "* 缺失值处理\n",
    "    - 删除记录\n",
    "    - 数据插补: *牛顿插值法, 拉格朗日插值法\n",
    "        -- 均值/中位数/众数插补\n",
    "        -- 使用固定值\n",
    "        -- 最近邻插补\n",
    "        -- 回归法\n",
    "        -- 插值法\n",
    "    - 不处理\n",
    "* 异常值 看具体情况\n",
    "    - 剔除\n",
    "    - 保留\n",
    "    - 当做缺失值修正\n",
    "    \n",
    "\"\"\"\n"
   ]
  },
  {
   "cell_type": "code",
   "execution_count": 3,
   "metadata": {},
   "outputs": [],
   "source": [
    "from __future__ import division\n",
    "import numpy as np\n",
    "import os\n",
    "import matplotlib.pyplot as plt\n",
    "from scipy.interpolate import lagrange\n",
    "from pandas import DataFrame, Series\n",
    "import pandas as pd"
   ]
  },
  {
   "cell_type": "code",
   "execution_count": 4,
   "metadata": {
    "collapsed": true
   },
   "outputs": [],
   "source": [
    "np.random.seed(12345)\n",
    "plt.rc(\"figure\", figsize=(10, 6))\n",
    "np.set_printoptions(precision=4, threshold=500)\n",
    "pd.options.display.max_rows = 100"
   ]
  },
  {
   "cell_type": "code",
   "execution_count": 15,
   "metadata": {},
   "outputs": [
    {
     "name": "stdout",
     "output_type": "stream",
     "text": [
      "            日期      销量\n",
      "0   2015-03-01     NaN\n",
      "1   2015-02-28  2618.2\n",
      "2   2015-02-27  2608.4\n",
      "3   2015-02-26  2651.9\n",
      "4   2015-02-25  3442.1\n",
      "5   2015-02-24  3393.1\n",
      "6   2015-02-23  3136.6\n",
      "7   2015-02-22  3744.1\n",
      "8   2015-02-21     NaN\n",
      "9   2015-02-20  4060.3\n",
      "10  2015-02-19  3614.7\n",
      "11  2015-02-18  3295.5\n",
      "12  2015-02-16  2332.1\n",
      "13  2015-02-15  2699.3\n",
      "14  2015-02-14     NaN\n",
      "15  2015-02-13  3036.8\n",
      "16  2015-02-12   865.0\n",
      "17  2015-02-11  3014.3\n",
      "18  2015-02-10  2742.8\n",
      "19  2015-02-09  2173.5\n",
      "20  2015-02-08  3161.8\n",
      "21  2015-02-07  3023.8\n",
      "22  2015-02-06  2998.1\n",
      "23  2015-02-05  2805.9\n",
      "24  2015-02-04  2383.4\n",
      "25  2015-02-03  2620.2\n",
      "26  2015-02-02  2600.0\n",
      "27  2015-02-01  2358.6\n",
      "28  2015-01-31  2682.2\n",
      "29  2015-01-30  2766.8\n",
      "30  2015-01-29  2618.8\n",
      "31  2015-01-28  2714.3\n",
      "32  2015-01-27  2280.8\n",
      "33  2015-01-26  2414.0\n",
      "34  2015-01-25  3130.6\n",
      "35  2015-01-24  2716.9\n",
      "36  2015-01-23  2930.8\n",
      "37  2015-01-22  2504.9\n",
      "38  2015-01-21  2559.5\n",
      "39  2015-01-20  2168.6\n",
      "40  2015-01-19  2436.4\n",
      "41  2015-01-18  3234.3\n",
      "42  2015-01-17  3061.0\n",
      "43  2015-01-16  2900.1\n",
      "44  2015-01-15  2646.8\n",
      "45  2015-01-14  2615.2\n",
      "46  2015-01-13  2124.4\n",
      "47  2015-01-12  1958.0\n",
      "48  2015-01-08  2259.1\n",
      "49  2015-01-07  2419.8\n",
      "..         ...     ...\n",
      "151 2014-09-20  3017.9\n",
      "152 2014-09-19  2625.5\n",
      "153 2014-09-18  2752.7\n",
      "154 2014-09-17  2181.5\n",
      "155 2014-09-16  2440.5\n",
      "156 2014-09-15  2422.8\n",
      "157 2014-09-14  2583.6\n",
      "158 2014-09-13  2728.9\n",
      "159 2014-09-12  2525.3\n",
      "160 2014-09-11  2531.7\n",
      "161 2014-09-10  2300.5\n",
      "162 2014-09-09  2097.5\n",
      "163 2014-09-08  4065.2\n",
      "164 2014-09-07  3555.2\n",
      "165 2014-09-06  3462.5\n",
      "166 2014-09-05  3033.1\n",
      "167 2014-09-04  2926.1\n",
      "168 2014-09-03  2431.4\n",
      "169 2014-09-02  2706.0\n",
      "170 2014-09-01  3049.9\n",
      "171 2014-08-31  3494.7\n",
      "172 2014-08-30  3691.9\n",
      "173 2014-08-29  2929.5\n",
      "174 2014-08-28  2760.6\n",
      "175 2014-08-27  2593.7\n",
      "176 2014-08-26  2884.4\n",
      "177 2014-08-25  2591.3\n",
      "178 2014-08-24  3022.6\n",
      "179 2014-08-23  3052.1\n",
      "180 2014-08-22  2789.2\n",
      "181 2014-08-21  2909.8\n",
      "182 2014-08-20  2326.8\n",
      "183 2014-08-19  2453.1\n",
      "184 2014-08-18  2351.2\n",
      "185 2014-08-17  3279.1\n",
      "186 2014-08-16  3381.9\n",
      "187 2014-08-15  2988.1\n",
      "188 2014-08-14  2577.7\n",
      "189 2014-08-13  2332.3\n",
      "190 2014-08-12  2518.6\n",
      "191 2014-08-11  2697.5\n",
      "192 2014-08-10  3244.7\n",
      "193 2014-08-09  3346.7\n",
      "194 2014-08-08  2900.6\n",
      "195 2014-08-07  2759.1\n",
      "196 2014-08-06  2915.8\n",
      "197 2014-08-05  2618.1\n",
      "198 2014-08-04  2993.0\n",
      "199 2014-08-03  3436.4\n",
      "200 2014-08-02  2261.7\n",
      "\n",
      "[201 rows x 2 columns]\n"
     ]
    },
    {
     "name": "stderr",
     "output_type": "stream",
     "text": [
      "/home/shawn/anaconda3/lib/python3.6/site-packages/ipykernel_launcher.py:9: SettingWithCopyWarning: \n",
      "A value is trying to be set on a copy of a slice from a DataFrame\n",
      "\n",
      "See the caveats in the documentation: http://pandas.pydata.org/pandas-docs/stable/indexing.html#indexing-view-versus-copy\n",
      "  if __name__ == '__main__':\n"
     ]
    }
   ],
   "source": [
    "# 缺失值处理--拉格朗日插值法\n",
    "input_file = \"./data/week6/data/catering_sale.xls\"\n",
    "output_file = \"./data/week6/data/sale.xls\"\n",
    "\n",
    "data = pd.read_excel(input_file) # 读入数据\n",
    "# print(data)\n",
    "# 过滤异常值, 将异常值置空\n",
    "# data[u'销量'].dtype\n",
    "data[u'销量'][(data[u'销量'] < 500) | (data[u'销量'] > 5000)] = None # 不能用and和or关键字, 只能用 &和|\n",
    "print(data)"
   ]
  },
  {
   "cell_type": "code",
   "execution_count": 21,
   "metadata": {},
   "outputs": [],
   "source": [
    "#自定义列向量插值函数\n",
    "def ployinterp_column(s, n, k=5):\n",
    "    \"\"\"\n",
    "        s: 列向量\n",
    "        n: 插值的位置\n",
    "        k: 取前后k个数据, 默认为5\n",
    "    \"\"\"\n",
    "    tmp = list(range(n-k, n+k+1))\n",
    "    tmp.remove(n)\n",
    "    y = s[tmp]\n",
    "    y = y[y.notnull()] #剔除空值\n",
    "    return lagrange(y.index, list(y))(n) # 插值并返回插值结果"
   ]
  },
  {
   "cell_type": "code",
   "execution_count": 24,
   "metadata": {},
   "outputs": [],
   "source": [
    "# 逐个判断元素是否需要插值\n",
    "for i in data.columns:\n",
    "    for j in range(len(data)):\n",
    "        if (data[i].isnull())[j]: # 如果是空值便插值\n",
    "            data[i][j] = ployinterp_column(data[i], j)\n",
    "# print(data)\n",
    "data.to_excel(output_file)"
   ]
  },
  {
   "cell_type": "code",
   "execution_count": 26,
   "metadata": {},
   "outputs": [
    {
     "name": "stdout",
     "output_type": "stream",
     "text": [
      "   data1 key\n",
      "0      0   b\n",
      "1      1   b\n",
      "2      2   a\n",
      "3      3   c\n",
      "4      4   a\n",
      "5      5   a\n",
      "6      6   b \n",
      "    data2 key\n",
      "0      0   a\n",
      "1      1   b\n",
      "2      2   d\n"
     ]
    }
   ],
   "source": [
    "# 合并数据\n",
    "\n",
    "# DataFrame合并\n",
    "# 1\n",
    "df1 = DataFrame({\"key\": [\"b\", \"b\", \"a\", \"c\", \"a\", \"a\", \"b\"], \"data1\": range(7)})\n",
    "df2 = DataFrame({\"key\": [\"a\", \"b\", \"d\"], \"data2\": range(3)})\n",
    "print(df1, \"\\n\", df2)"
   ]
  },
  {
   "cell_type": "code",
   "execution_count": 27,
   "metadata": {},
   "outputs": [
    {
     "data": {
      "text/html": [
       "<div>\n",
       "<style>\n",
       "    .dataframe thead tr:only-child th {\n",
       "        text-align: right;\n",
       "    }\n",
       "\n",
       "    .dataframe thead th {\n",
       "        text-align: left;\n",
       "    }\n",
       "\n",
       "    .dataframe tbody tr th {\n",
       "        vertical-align: top;\n",
       "    }\n",
       "</style>\n",
       "<table border=\"1\" class=\"dataframe\">\n",
       "  <thead>\n",
       "    <tr style=\"text-align: right;\">\n",
       "      <th></th>\n",
       "      <th>data1</th>\n",
       "      <th>key</th>\n",
       "      <th>data2</th>\n",
       "    </tr>\n",
       "  </thead>\n",
       "  <tbody>\n",
       "    <tr>\n",
       "      <th>0</th>\n",
       "      <td>0</td>\n",
       "      <td>b</td>\n",
       "      <td>1</td>\n",
       "    </tr>\n",
       "    <tr>\n",
       "      <th>1</th>\n",
       "      <td>1</td>\n",
       "      <td>b</td>\n",
       "      <td>1</td>\n",
       "    </tr>\n",
       "    <tr>\n",
       "      <th>2</th>\n",
       "      <td>6</td>\n",
       "      <td>b</td>\n",
       "      <td>1</td>\n",
       "    </tr>\n",
       "    <tr>\n",
       "      <th>3</th>\n",
       "      <td>2</td>\n",
       "      <td>a</td>\n",
       "      <td>0</td>\n",
       "    </tr>\n",
       "    <tr>\n",
       "      <th>4</th>\n",
       "      <td>4</td>\n",
       "      <td>a</td>\n",
       "      <td>0</td>\n",
       "    </tr>\n",
       "    <tr>\n",
       "      <th>5</th>\n",
       "      <td>5</td>\n",
       "      <td>a</td>\n",
       "      <td>0</td>\n",
       "    </tr>\n",
       "  </tbody>\n",
       "</table>\n",
       "</div>"
      ],
      "text/plain": [
       "   data1 key  data2\n",
       "0      0   b      1\n",
       "1      1   b      1\n",
       "2      6   b      1\n",
       "3      2   a      0\n",
       "4      4   a      0\n",
       "5      5   a      0"
      ]
     },
     "execution_count": 27,
     "metadata": {},
     "output_type": "execute_result"
    }
   ],
   "source": [
    "pd.merge(df1, df2)"
   ]
  },
  {
   "cell_type": "code",
   "execution_count": 31,
   "metadata": {},
   "outputs": [
    {
     "data": {
      "text/html": [
       "<div>\n",
       "<style>\n",
       "    .dataframe thead tr:only-child th {\n",
       "        text-align: right;\n",
       "    }\n",
       "\n",
       "    .dataframe thead th {\n",
       "        text-align: left;\n",
       "    }\n",
       "\n",
       "    .dataframe tbody tr th {\n",
       "        vertical-align: top;\n",
       "    }\n",
       "</style>\n",
       "<table border=\"1\" class=\"dataframe\">\n",
       "  <thead>\n",
       "    <tr style=\"text-align: right;\">\n",
       "      <th></th>\n",
       "      <th>data1</th>\n",
       "      <th>key</th>\n",
       "      <th>data2</th>\n",
       "    </tr>\n",
       "  </thead>\n",
       "  <tbody>\n",
       "    <tr>\n",
       "      <th>0</th>\n",
       "      <td>0</td>\n",
       "      <td>b</td>\n",
       "      <td>1</td>\n",
       "    </tr>\n",
       "    <tr>\n",
       "      <th>1</th>\n",
       "      <td>1</td>\n",
       "      <td>b</td>\n",
       "      <td>1</td>\n",
       "    </tr>\n",
       "    <tr>\n",
       "      <th>2</th>\n",
       "      <td>6</td>\n",
       "      <td>b</td>\n",
       "      <td>1</td>\n",
       "    </tr>\n",
       "    <tr>\n",
       "      <th>3</th>\n",
       "      <td>2</td>\n",
       "      <td>a</td>\n",
       "      <td>0</td>\n",
       "    </tr>\n",
       "    <tr>\n",
       "      <th>4</th>\n",
       "      <td>4</td>\n",
       "      <td>a</td>\n",
       "      <td>0</td>\n",
       "    </tr>\n",
       "    <tr>\n",
       "      <th>5</th>\n",
       "      <td>5</td>\n",
       "      <td>a</td>\n",
       "      <td>0</td>\n",
       "    </tr>\n",
       "  </tbody>\n",
       "</table>\n",
       "</div>"
      ],
      "text/plain": [
       "   data1 key  data2\n",
       "0      0   b      1\n",
       "1      1   b      1\n",
       "2      6   b      1\n",
       "3      2   a      0\n",
       "4      4   a      0\n",
       "5      5   a      0"
      ]
     },
     "execution_count": 31,
     "metadata": {},
     "output_type": "execute_result"
    }
   ],
   "source": [
    "pd.merge(df1, df2, on=\"key\")"
   ]
  },
  {
   "cell_type": "code",
   "execution_count": 32,
   "metadata": {},
   "outputs": [
    {
     "data": {
      "text/html": [
       "<div>\n",
       "<style>\n",
       "    .dataframe thead tr:only-child th {\n",
       "        text-align: right;\n",
       "    }\n",
       "\n",
       "    .dataframe thead th {\n",
       "        text-align: left;\n",
       "    }\n",
       "\n",
       "    .dataframe tbody tr th {\n",
       "        vertical-align: top;\n",
       "    }\n",
       "</style>\n",
       "<table border=\"1\" class=\"dataframe\">\n",
       "  <thead>\n",
       "    <tr style=\"text-align: right;\">\n",
       "      <th></th>\n",
       "      <th>data1_x</th>\n",
       "      <th>lkey</th>\n",
       "      <th>data1_y</th>\n",
       "      <th>rkey</th>\n",
       "    </tr>\n",
       "  </thead>\n",
       "  <tbody>\n",
       "    <tr>\n",
       "      <th>0</th>\n",
       "      <td>0</td>\n",
       "      <td>b</td>\n",
       "      <td>1</td>\n",
       "      <td>b</td>\n",
       "    </tr>\n",
       "    <tr>\n",
       "      <th>1</th>\n",
       "      <td>1</td>\n",
       "      <td>b</td>\n",
       "      <td>1</td>\n",
       "      <td>b</td>\n",
       "    </tr>\n",
       "    <tr>\n",
       "      <th>2</th>\n",
       "      <td>6</td>\n",
       "      <td>b</td>\n",
       "      <td>1</td>\n",
       "      <td>b</td>\n",
       "    </tr>\n",
       "    <tr>\n",
       "      <th>3</th>\n",
       "      <td>2</td>\n",
       "      <td>a</td>\n",
       "      <td>0</td>\n",
       "      <td>a</td>\n",
       "    </tr>\n",
       "    <tr>\n",
       "      <th>4</th>\n",
       "      <td>4</td>\n",
       "      <td>a</td>\n",
       "      <td>0</td>\n",
       "      <td>a</td>\n",
       "    </tr>\n",
       "    <tr>\n",
       "      <th>5</th>\n",
       "      <td>5</td>\n",
       "      <td>a</td>\n",
       "      <td>0</td>\n",
       "      <td>a</td>\n",
       "    </tr>\n",
       "  </tbody>\n",
       "</table>\n",
       "</div>"
      ],
      "text/plain": [
       "   data1_x lkey  data1_y rkey\n",
       "0        0    b        1    b\n",
       "1        1    b        1    b\n",
       "2        6    b        1    b\n",
       "3        2    a        0    a\n",
       "4        4    a        0    a\n",
       "5        5    a        0    a"
      ]
     },
     "execution_count": 32,
     "metadata": {},
     "output_type": "execute_result"
    }
   ],
   "source": [
    "#2\n",
    "df3 = DataFrame({\"lkey\": [\"b\", \"b\", \"a\", \"c\", \"a\", \"a\", \"b\"], \"data1\": range(7)})\n",
    "df4 = DataFrame({\"rkey\": [\"a\", \"b\", \"d\"], \"data1\": range(3)})\n",
    "pd.merge(df3, df4, left_on=\"lkey\", right_on=\"rkey\")"
   ]
  },
  {
   "cell_type": "code",
   "execution_count": 34,
   "metadata": {},
   "outputs": [
    {
     "data": {
      "text/html": [
       "<div>\n",
       "<style>\n",
       "    .dataframe thead tr:only-child th {\n",
       "        text-align: right;\n",
       "    }\n",
       "\n",
       "    .dataframe thead th {\n",
       "        text-align: left;\n",
       "    }\n",
       "\n",
       "    .dataframe tbody tr th {\n",
       "        vertical-align: top;\n",
       "    }\n",
       "</style>\n",
       "<table border=\"1\" class=\"dataframe\">\n",
       "  <thead>\n",
       "    <tr style=\"text-align: right;\">\n",
       "      <th></th>\n",
       "      <th>data1</th>\n",
       "      <th>lkey</th>\n",
       "      <th>rkey</th>\n",
       "    </tr>\n",
       "  </thead>\n",
       "  <tbody>\n",
       "    <tr>\n",
       "      <th>0</th>\n",
       "      <td>0</td>\n",
       "      <td>b</td>\n",
       "      <td>a</td>\n",
       "    </tr>\n",
       "    <tr>\n",
       "      <th>1</th>\n",
       "      <td>1</td>\n",
       "      <td>b</td>\n",
       "      <td>b</td>\n",
       "    </tr>\n",
       "    <tr>\n",
       "      <th>2</th>\n",
       "      <td>2</td>\n",
       "      <td>a</td>\n",
       "      <td>d</td>\n",
       "    </tr>\n",
       "    <tr>\n",
       "      <th>3</th>\n",
       "      <td>3</td>\n",
       "      <td>c</td>\n",
       "      <td>NaN</td>\n",
       "    </tr>\n",
       "    <tr>\n",
       "      <th>4</th>\n",
       "      <td>4</td>\n",
       "      <td>a</td>\n",
       "      <td>NaN</td>\n",
       "    </tr>\n",
       "    <tr>\n",
       "      <th>5</th>\n",
       "      <td>5</td>\n",
       "      <td>a</td>\n",
       "      <td>NaN</td>\n",
       "    </tr>\n",
       "    <tr>\n",
       "      <th>6</th>\n",
       "      <td>6</td>\n",
       "      <td>b</td>\n",
       "      <td>NaN</td>\n",
       "    </tr>\n",
       "  </tbody>\n",
       "</table>\n",
       "</div>"
      ],
      "text/plain": [
       "   data1 lkey rkey\n",
       "0      0    b    a\n",
       "1      1    b    b\n",
       "2      2    a    d\n",
       "3      3    c  NaN\n",
       "4      4    a  NaN\n",
       "5      5    a  NaN\n",
       "6      6    b  NaN"
      ]
     },
     "execution_count": 34,
     "metadata": {},
     "output_type": "execute_result"
    }
   ],
   "source": [
    "#3\n",
    "pd.merge(df3, df4, how=\"outer\")"
   ]
  },
  {
   "cell_type": "code",
   "execution_count": 36,
   "metadata": {},
   "outputs": [
    {
     "data": {
      "text/html": [
       "<div>\n",
       "<style>\n",
       "    .dataframe thead tr:only-child th {\n",
       "        text-align: right;\n",
       "    }\n",
       "\n",
       "    .dataframe thead th {\n",
       "        text-align: left;\n",
       "    }\n",
       "\n",
       "    .dataframe tbody tr th {\n",
       "        vertical-align: top;\n",
       "    }\n",
       "</style>\n",
       "<table border=\"1\" class=\"dataframe\">\n",
       "  <thead>\n",
       "    <tr style=\"text-align: right;\">\n",
       "      <th></th>\n",
       "      <th>key1</th>\n",
       "      <th>key2</th>\n",
       "      <th>lval</th>\n",
       "      <th>rval</th>\n",
       "    </tr>\n",
       "  </thead>\n",
       "  <tbody>\n",
       "    <tr>\n",
       "      <th>0</th>\n",
       "      <td>foo</td>\n",
       "      <td>one</td>\n",
       "      <td>1.0</td>\n",
       "      <td>4.0</td>\n",
       "    </tr>\n",
       "    <tr>\n",
       "      <th>1</th>\n",
       "      <td>foo</td>\n",
       "      <td>one</td>\n",
       "      <td>1.0</td>\n",
       "      <td>5.0</td>\n",
       "    </tr>\n",
       "    <tr>\n",
       "      <th>2</th>\n",
       "      <td>foo</td>\n",
       "      <td>two</td>\n",
       "      <td>2.0</td>\n",
       "      <td>NaN</td>\n",
       "    </tr>\n",
       "    <tr>\n",
       "      <th>3</th>\n",
       "      <td>bar</td>\n",
       "      <td>one</td>\n",
       "      <td>3.0</td>\n",
       "      <td>6.0</td>\n",
       "    </tr>\n",
       "    <tr>\n",
       "      <th>4</th>\n",
       "      <td>bar</td>\n",
       "      <td>two</td>\n",
       "      <td>NaN</td>\n",
       "      <td>7.0</td>\n",
       "    </tr>\n",
       "  </tbody>\n",
       "</table>\n",
       "</div>"
      ],
      "text/plain": [
       "  key1 key2  lval  rval\n",
       "0  foo  one   1.0   4.0\n",
       "1  foo  one   1.0   5.0\n",
       "2  foo  two   2.0   NaN\n",
       "3  bar  one   3.0   6.0\n",
       "4  bar  two   NaN   7.0"
      ]
     },
     "execution_count": 36,
     "metadata": {},
     "output_type": "execute_result"
    }
   ],
   "source": [
    "#4\n",
    "left = DataFrame({\"key1\": [\"foo\", \"foo\", \"bar\"], \"key2\": [\"one\", \"two\", \"one\"], \"lval\": [1, 2, 3]})\n",
    "right = DataFrame({\"key1\": [\"foo\", \"foo\", \"bar\", \"bar\"], \"key2\": [\"one\", \"one\", \"one\", \"two\"], \"rval\": [4, 5, 6, 7]})\n",
    "pd.merge(left, right, on=[\"key1\", \"key2\"], how=\"outer\")"
   ]
  },
  {
   "cell_type": "code",
   "execution_count": 38,
   "metadata": {},
   "outputs": [
    {
     "name": "stdout",
     "output_type": "stream",
     "text": [
      "  key1 key2_x  lval key2_y  rval\n",
      "0  foo    one     1    one     4\n",
      "1  foo    one     1    one     5\n",
      "2  foo    two     2    one     4\n",
      "3  foo    two     2    one     5\n",
      "4  bar    one     3    one     6\n",
      "5  bar    one     3    two     7\n",
      "  key1 key2_left  lval key2_right  rval\n",
      "0  foo       one     1        one     4\n",
      "1  foo       one     1        one     5\n",
      "2  foo       two     2        one     4\n",
      "3  foo       two     2        one     5\n",
      "4  bar       one     3        one     6\n",
      "5  bar       one     3        two     7\n"
     ]
    }
   ],
   "source": [
    "#5 \n",
    "print(pd.merge(left, right, on=\"key1\"))\n",
    "print(pd.merge(left, right, on=\"key1\", suffixes=[\"_left\", \"_right\"]))"
   ]
  },
  {
   "cell_type": "code",
   "execution_count": 39,
   "metadata": {},
   "outputs": [
    {
     "name": "stdout",
     "output_type": "stream",
     "text": [
      "[[ 0  1  2  3]\n",
      " [ 4  5  6  7]\n",
      " [ 8  9 10 11]]\n",
      "[[ 0  1  2  3  0  1  2  3]\n",
      " [ 4  5  6  7  4  5  6  7]\n",
      " [ 8  9 10 11  8  9 10 11]]\n",
      "[[ 0  1  2  3]\n",
      " [ 4  5  6  7]\n",
      " [ 8  9 10 11]\n",
      " [ 0  1  2  3]\n",
      " [ 4  5  6  7]\n",
      " [ 8  9 10 11]]\n"
     ]
    }
   ],
   "source": [
    "# 轴向连接\n",
    "#1\n",
    "arr = np.arange(12).reshape((3, 4))\n",
    "print(arr)\n",
    "print(np.concatenate([arr, arr], axis=1))\n",
    "print(np.concatenate([arr, arr], axis=0))"
   ]
  },
  {
   "cell_type": "code",
   "execution_count": 40,
   "metadata": {},
   "outputs": [
    {
     "data": {
      "text/plain": [
       "a    0\n",
       "b    1\n",
       "c    2\n",
       "d    3\n",
       "e    4\n",
       "f    5\n",
       "g    6\n",
       "dtype: int64"
      ]
     },
     "execution_count": 40,
     "metadata": {},
     "output_type": "execute_result"
    }
   ],
   "source": [
    "#2\n",
    "s1 = Series([0, 1], index=['a', 'b'])\n",
    "s2 = Series([2, 3, 4], index=['c', 'd', 'e'])\n",
    "s3 = Series([5, 6], index=['f', 'g'])\n",
    "pd.concat([s1, s2, s3])"
   ]
  },
  {
   "cell_type": "code",
   "execution_count": 42,
   "metadata": {},
   "outputs": [
    {
     "data": {
      "text/html": [
       "<div>\n",
       "<style>\n",
       "    .dataframe thead tr:only-child th {\n",
       "        text-align: right;\n",
       "    }\n",
       "\n",
       "    .dataframe thead th {\n",
       "        text-align: left;\n",
       "    }\n",
       "\n",
       "    .dataframe tbody tr th {\n",
       "        vertical-align: top;\n",
       "    }\n",
       "</style>\n",
       "<table border=\"1\" class=\"dataframe\">\n",
       "  <thead>\n",
       "    <tr style=\"text-align: right;\">\n",
       "      <th></th>\n",
       "      <th>0</th>\n",
       "      <th>1</th>\n",
       "      <th>2</th>\n",
       "    </tr>\n",
       "  </thead>\n",
       "  <tbody>\n",
       "    <tr>\n",
       "      <th>a</th>\n",
       "      <td>0.0</td>\n",
       "      <td>NaN</td>\n",
       "      <td>NaN</td>\n",
       "    </tr>\n",
       "    <tr>\n",
       "      <th>b</th>\n",
       "      <td>1.0</td>\n",
       "      <td>NaN</td>\n",
       "      <td>NaN</td>\n",
       "    </tr>\n",
       "    <tr>\n",
       "      <th>c</th>\n",
       "      <td>NaN</td>\n",
       "      <td>2.0</td>\n",
       "      <td>NaN</td>\n",
       "    </tr>\n",
       "    <tr>\n",
       "      <th>d</th>\n",
       "      <td>NaN</td>\n",
       "      <td>3.0</td>\n",
       "      <td>NaN</td>\n",
       "    </tr>\n",
       "    <tr>\n",
       "      <th>e</th>\n",
       "      <td>NaN</td>\n",
       "      <td>4.0</td>\n",
       "      <td>NaN</td>\n",
       "    </tr>\n",
       "    <tr>\n",
       "      <th>f</th>\n",
       "      <td>NaN</td>\n",
       "      <td>NaN</td>\n",
       "      <td>5.0</td>\n",
       "    </tr>\n",
       "    <tr>\n",
       "      <th>g</th>\n",
       "      <td>NaN</td>\n",
       "      <td>NaN</td>\n",
       "      <td>6.0</td>\n",
       "    </tr>\n",
       "  </tbody>\n",
       "</table>\n",
       "</div>"
      ],
      "text/plain": [
       "     0    1    2\n",
       "a  0.0  NaN  NaN\n",
       "b  1.0  NaN  NaN\n",
       "c  NaN  2.0  NaN\n",
       "d  NaN  3.0  NaN\n",
       "e  NaN  4.0  NaN\n",
       "f  NaN  NaN  5.0\n",
       "g  NaN  NaN  6.0"
      ]
     },
     "execution_count": 42,
     "metadata": {},
     "output_type": "execute_result"
    }
   ],
   "source": [
    "pd.concat([s1, s2, s3], axis=1)"
   ]
  },
  {
   "cell_type": "code",
   "execution_count": 50,
   "metadata": {},
   "outputs": [
    {
     "name": "stdout",
     "output_type": "stream",
     "text": [
      "    s1   s2   s3\n",
      "a  0.0  NaN  NaN\n",
      "b  1.0  NaN  NaN\n",
      "c  NaN  2.0  NaN\n",
      "d  NaN  3.0  NaN\n",
      "e  NaN  4.0  NaN\n",
      "f  NaN  NaN  5.0\n",
      "g  NaN  NaN  6.0\n",
      "s1  a    0\n",
      "    b    1\n",
      "s2  c    2\n",
      "    d    3\n",
      "    e    4\n",
      "s3  f    5\n",
      "    g    6\n",
      "dtype: int64\n"
     ]
    }
   ],
   "source": [
    "#3\n",
    "result = pd.concat([s1, s2, s3], axis=1, keys=[\"s1\", \"s2\", \"s3\"])\n",
    "print(result)\n",
    "result = pd.concat([s1, s2, s3], axis=0, keys=[\"s1\", \"s2\", \"s3\"])\n",
    "print(result)"
   ]
  },
  {
   "cell_type": "code",
   "execution_count": 51,
   "metadata": {},
   "outputs": [
    {
     "data": {
      "text/html": [
       "<div>\n",
       "<style>\n",
       "    .dataframe thead tr:only-child th {\n",
       "        text-align: right;\n",
       "    }\n",
       "\n",
       "    .dataframe thead th {\n",
       "        text-align: left;\n",
       "    }\n",
       "\n",
       "    .dataframe tbody tr th {\n",
       "        vertical-align: top;\n",
       "    }\n",
       "</style>\n",
       "<table border=\"1\" class=\"dataframe\">\n",
       "  <thead>\n",
       "    <tr>\n",
       "      <th></th>\n",
       "      <th colspan=\"2\" halign=\"left\">level1</th>\n",
       "      <th colspan=\"2\" halign=\"left\">level2</th>\n",
       "    </tr>\n",
       "    <tr>\n",
       "      <th></th>\n",
       "      <th>one</th>\n",
       "      <th>two</th>\n",
       "      <th>three</th>\n",
       "      <th>four</th>\n",
       "    </tr>\n",
       "  </thead>\n",
       "  <tbody>\n",
       "    <tr>\n",
       "      <th>a</th>\n",
       "      <td>0</td>\n",
       "      <td>1</td>\n",
       "      <td>5.0</td>\n",
       "      <td>6.0</td>\n",
       "    </tr>\n",
       "    <tr>\n",
       "      <th>b</th>\n",
       "      <td>2</td>\n",
       "      <td>3</td>\n",
       "      <td>NaN</td>\n",
       "      <td>NaN</td>\n",
       "    </tr>\n",
       "    <tr>\n",
       "      <th>c</th>\n",
       "      <td>4</td>\n",
       "      <td>5</td>\n",
       "      <td>7.0</td>\n",
       "      <td>8.0</td>\n",
       "    </tr>\n",
       "  </tbody>\n",
       "</table>\n",
       "</div>"
      ],
      "text/plain": [
       "  level1     level2     \n",
       "     one two  three four\n",
       "a      0   1    5.0  6.0\n",
       "b      2   3    NaN  NaN\n",
       "c      4   5    7.0  8.0"
      ]
     },
     "execution_count": 51,
     "metadata": {},
     "output_type": "execute_result"
    }
   ],
   "source": [
    "#4\n",
    "df1 = DataFrame(np.arange(6).reshape((3, 2)), index=[\"a\", \"b\", \"c\"], columns=[\"one\", \"two\"])\n",
    "df2 = DataFrame(5 + np.arange(4).reshape((2, 2)), index=[\"a\", \"c\"], columns=[\"three\", \"four\"])\n",
    "pd.concat([df1, df2], axis=1, keys=[\"level1\", \"level2\"])"
   ]
  },
  {
   "cell_type": "code",
   "execution_count": 52,
   "metadata": {},
   "outputs": [
    {
     "data": {
      "text/html": [
       "<div>\n",
       "<style>\n",
       "    .dataframe thead tr:only-child th {\n",
       "        text-align: right;\n",
       "    }\n",
       "\n",
       "    .dataframe thead th {\n",
       "        text-align: left;\n",
       "    }\n",
       "\n",
       "    .dataframe tbody tr th {\n",
       "        vertical-align: top;\n",
       "    }\n",
       "</style>\n",
       "<table border=\"1\" class=\"dataframe\">\n",
       "  <thead>\n",
       "    <tr>\n",
       "      <th></th>\n",
       "      <th colspan=\"2\" halign=\"left\">level1</th>\n",
       "      <th colspan=\"2\" halign=\"left\">level2</th>\n",
       "    </tr>\n",
       "    <tr>\n",
       "      <th></th>\n",
       "      <th>one</th>\n",
       "      <th>two</th>\n",
       "      <th>three</th>\n",
       "      <th>four</th>\n",
       "    </tr>\n",
       "  </thead>\n",
       "  <tbody>\n",
       "    <tr>\n",
       "      <th>a</th>\n",
       "      <td>0</td>\n",
       "      <td>1</td>\n",
       "      <td>5.0</td>\n",
       "      <td>6.0</td>\n",
       "    </tr>\n",
       "    <tr>\n",
       "      <th>b</th>\n",
       "      <td>2</td>\n",
       "      <td>3</td>\n",
       "      <td>NaN</td>\n",
       "      <td>NaN</td>\n",
       "    </tr>\n",
       "    <tr>\n",
       "      <th>c</th>\n",
       "      <td>4</td>\n",
       "      <td>5</td>\n",
       "      <td>7.0</td>\n",
       "      <td>8.0</td>\n",
       "    </tr>\n",
       "  </tbody>\n",
       "</table>\n",
       "</div>"
      ],
      "text/plain": [
       "  level1     level2     \n",
       "     one two  three four\n",
       "a      0   1    5.0  6.0\n",
       "b      2   3    NaN  NaN\n",
       "c      4   5    7.0  8.0"
      ]
     },
     "execution_count": 52,
     "metadata": {},
     "output_type": "execute_result"
    }
   ],
   "source": [
    "pd.concat({\"level1\": df1, \"level2\": df2}, axis=1)"
   ]
  },
  {
   "cell_type": "code",
   "execution_count": 53,
   "metadata": {},
   "outputs": [
    {
     "data": {
      "text/html": [
       "<div>\n",
       "<style>\n",
       "    .dataframe thead tr:only-child th {\n",
       "        text-align: right;\n",
       "    }\n",
       "\n",
       "    .dataframe thead th {\n",
       "        text-align: left;\n",
       "    }\n",
       "\n",
       "    .dataframe tbody tr th {\n",
       "        vertical-align: top;\n",
       "    }\n",
       "</style>\n",
       "<table border=\"1\" class=\"dataframe\">\n",
       "  <thead>\n",
       "    <tr>\n",
       "      <th>upper</th>\n",
       "      <th colspan=\"2\" halign=\"left\">level1</th>\n",
       "      <th colspan=\"2\" halign=\"left\">level2</th>\n",
       "    </tr>\n",
       "    <tr>\n",
       "      <th>lower</th>\n",
       "      <th>one</th>\n",
       "      <th>two</th>\n",
       "      <th>three</th>\n",
       "      <th>four</th>\n",
       "    </tr>\n",
       "  </thead>\n",
       "  <tbody>\n",
       "    <tr>\n",
       "      <th>a</th>\n",
       "      <td>0</td>\n",
       "      <td>1</td>\n",
       "      <td>5.0</td>\n",
       "      <td>6.0</td>\n",
       "    </tr>\n",
       "    <tr>\n",
       "      <th>b</th>\n",
       "      <td>2</td>\n",
       "      <td>3</td>\n",
       "      <td>NaN</td>\n",
       "      <td>NaN</td>\n",
       "    </tr>\n",
       "    <tr>\n",
       "      <th>c</th>\n",
       "      <td>4</td>\n",
       "      <td>5</td>\n",
       "      <td>7.0</td>\n",
       "      <td>8.0</td>\n",
       "    </tr>\n",
       "  </tbody>\n",
       "</table>\n",
       "</div>"
      ],
      "text/plain": [
       "upper level1     level2     \n",
       "lower    one two  three four\n",
       "a          0   1    5.0  6.0\n",
       "b          2   3    NaN  NaN\n",
       "c          4   5    7.0  8.0"
      ]
     },
     "execution_count": 53,
     "metadata": {},
     "output_type": "execute_result"
    }
   ],
   "source": [
    "pd.concat([df1, df2], axis=1, keys=[\"level1\", \"level2\"], names=[\"upper\", \"lower\"])"
   ]
  },
  {
   "cell_type": "code",
   "execution_count": 54,
   "metadata": {},
   "outputs": [
    {
     "data": {
      "text/html": [
       "<div>\n",
       "<style>\n",
       "    .dataframe thead tr:only-child th {\n",
       "        text-align: right;\n",
       "    }\n",
       "\n",
       "    .dataframe thead th {\n",
       "        text-align: left;\n",
       "    }\n",
       "\n",
       "    .dataframe tbody tr th {\n",
       "        vertical-align: top;\n",
       "    }\n",
       "</style>\n",
       "<table border=\"1\" class=\"dataframe\">\n",
       "  <thead>\n",
       "    <tr style=\"text-align: right;\">\n",
       "      <th></th>\n",
       "      <th>a</th>\n",
       "      <th>b</th>\n",
       "      <th>c</th>\n",
       "      <th>d</th>\n",
       "    </tr>\n",
       "  </thead>\n",
       "  <tbody>\n",
       "    <tr>\n",
       "      <th>0</th>\n",
       "      <td>-0.204708</td>\n",
       "      <td>0.478943</td>\n",
       "      <td>-0.519439</td>\n",
       "      <td>-0.555730</td>\n",
       "    </tr>\n",
       "    <tr>\n",
       "      <th>1</th>\n",
       "      <td>1.965781</td>\n",
       "      <td>1.393406</td>\n",
       "      <td>0.092908</td>\n",
       "      <td>0.281746</td>\n",
       "    </tr>\n",
       "    <tr>\n",
       "      <th>2</th>\n",
       "      <td>0.769023</td>\n",
       "      <td>1.246435</td>\n",
       "      <td>1.007189</td>\n",
       "      <td>-1.296221</td>\n",
       "    </tr>\n",
       "    <tr>\n",
       "      <th>3</th>\n",
       "      <td>1.352917</td>\n",
       "      <td>0.274992</td>\n",
       "      <td>NaN</td>\n",
       "      <td>0.228913</td>\n",
       "    </tr>\n",
       "    <tr>\n",
       "      <th>4</th>\n",
       "      <td>-0.371843</td>\n",
       "      <td>0.886429</td>\n",
       "      <td>NaN</td>\n",
       "      <td>-2.001637</td>\n",
       "    </tr>\n",
       "  </tbody>\n",
       "</table>\n",
       "</div>"
      ],
      "text/plain": [
       "          a         b         c         d\n",
       "0 -0.204708  0.478943 -0.519439 -0.555730\n",
       "1  1.965781  1.393406  0.092908  0.281746\n",
       "2  0.769023  1.246435  1.007189 -1.296221\n",
       "3  1.352917  0.274992       NaN  0.228913\n",
       "4 -0.371843  0.886429       NaN -2.001637"
      ]
     },
     "execution_count": 54,
     "metadata": {},
     "output_type": "execute_result"
    }
   ],
   "source": [
    "#5\n",
    "df1 = DataFrame(np.random.randn(3, 4), columns=['a', 'b', 'c', 'd'])\n",
    "df2 = DataFrame(np.random.randn(2, 3), columns=['b', 'd', 'a'])\n",
    "\n",
    "pd.concat([df1, df2], ignore_index=True)"
   ]
  },
  {
   "cell_type": "code",
   "execution_count": 56,
   "metadata": {},
   "outputs": [
    {
     "name": "stdout",
     "output_type": "stream",
     "text": [
      "f    NaN\n",
      "e    2.5\n",
      "d    NaN\n",
      "c    3.5\n",
      "b    4.6\n",
      "a    NaN\n",
      "dtype: float64 \n",
      " f    0.0\n",
      "e    1.0\n",
      "d    2.0\n",
      "c    3.0\n",
      "b    4.0\n",
      "a    NaN\n",
      "dtype: float64\n"
     ]
    }
   ],
   "source": [
    "# 合并重叠数据\n",
    "#1 \n",
    "a = Series([np.nan, 2.5, np.nan, 3.5, 4.6, np.nan], index=['f', 'e', 'd', 'c', 'b', 'a'])\n",
    "b = Series(np.arange(len(a)), dtype=np.float64, index=['f', 'e', 'd', 'c', 'b', 'a'])\n",
    "b[-1] = np.nan\n",
    "print(a, \"\\n\", b)"
   ]
  },
  {
   "cell_type": "code",
   "execution_count": 58,
   "metadata": {},
   "outputs": [
    {
     "data": {
      "text/plain": [
       "array([ 0. ,  2.5,  2. ,  3.5,  4.6,  nan])"
      ]
     },
     "execution_count": 58,
     "metadata": {},
     "output_type": "execute_result"
    }
   ],
   "source": [
    "np.where(pd.isnull(a), b, a)  # a为空就返回b的值"
   ]
  },
  {
   "cell_type": "code",
   "execution_count": 62,
   "metadata": {},
   "outputs": [
    {
     "name": "stdout",
     "output_type": "stream",
     "text": [
      "a    NaN\n",
      "b    4.6\n",
      "c    3.0\n",
      "d    2.0\n",
      "e    1.0\n",
      "f    0.0\n",
      "dtype: float64\n",
      "f    0.0\n",
      "e    1.0\n",
      "d    2.0\n",
      "c    3.0\n",
      "b    4.0\n",
      "a    NaN\n",
      "dtype: float64\n",
      "f    0.0\n",
      "e    2.5\n",
      "d    2.0\n",
      "c    3.5\n",
      "b    4.6\n",
      "a    NaN\n",
      "dtype: float64\n"
     ]
    }
   ],
   "source": [
    "#2\n",
    "print(b[:-2].combine_first(a[2:]))\n",
    "print(b.combine_first(a))\n",
    "print(a.combine_first(b))"
   ]
  },
  {
   "cell_type": "code",
   "execution_count": 66,
   "metadata": {},
   "outputs": [
    {
     "name": "stdout",
     "output_type": "stream",
     "text": [
      "s1  a    0\n",
      "    b    1\n",
      "s2  c    2\n",
      "    d    3\n",
      "    e    4\n",
      "s3  f    5\n",
      "    g    6\n",
      "dtype: int64\n",
      "      a    b    c    d    e    f    g\n",
      "s1  0.0  1.0  NaN  NaN  NaN  NaN  NaN\n",
      "s2  NaN  NaN  2.0  3.0  4.0  NaN  NaN\n",
      "s3  NaN  NaN  NaN  NaN  NaN  5.0  6.0\n",
      "    s1   s2   s3\n",
      "a  0.0  NaN  NaN\n",
      "b  1.0  NaN  NaN\n",
      "c  NaN  2.0  NaN\n",
      "d  NaN  3.0  NaN\n",
      "e  NaN  4.0  NaN\n",
      "f  NaN  NaN  5.0\n",
      "g  NaN  NaN  6.0\n"
     ]
    }
   ],
   "source": [
    "# 重塑和轴向旋转\n",
    "# *重塑层次化索引\n",
    "#1\n",
    "print(result)\n",
    "print(result.unstack())\n",
    "print(result.unstack(0))"
   ]
  },
  {
   "cell_type": "code",
   "execution_count": 67,
   "metadata": {},
   "outputs": [
    {
     "name": "stdout",
     "output_type": "stream",
     "text": [
      "one  a    0\n",
      "     b    1\n",
      "     c    2\n",
      "     d    3\n",
      "two  c    4\n",
      "     d    5\n",
      "     e    6\n",
      "dtype: int64\n",
      "       a    b    c    d    e\n",
      "one  0.0  1.0  2.0  3.0  NaN\n",
      "two  NaN  NaN  4.0  5.0  6.0\n"
     ]
    }
   ],
   "source": [
    "#2\n",
    "s1 = Series([0, 1, 2, 3], index=['a', 'b', 'c', 'd'])\n",
    "s2 = Series([4, 5, 6], index=['c', 'd', 'e'])\n",
    "data2 = pd.concat([s1, s2], keys=['one', 'two'])\n",
    "print(data2)\n",
    "print(data2.unstack())"
   ]
  },
  {
   "cell_type": "code",
   "execution_count": 68,
   "metadata": {},
   "outputs": [
    {
     "name": "stdout",
     "output_type": "stream",
     "text": [
      "one  a    0.0\n",
      "     b    1.0\n",
      "     c    2.0\n",
      "     d    3.0\n",
      "two  c    4.0\n",
      "     d    5.0\n",
      "     e    6.0\n",
      "dtype: float64\n"
     ]
    }
   ],
   "source": [
    "print(data2.unstack().stack())"
   ]
  },
  {
   "cell_type": "code",
   "execution_count": 70,
   "metadata": {},
   "outputs": [
    {
     "data": {
      "text/plain": [
       "one  a    0.0\n",
       "     b    1.0\n",
       "     c    2.0\n",
       "     d    3.0\n",
       "     e    NaN\n",
       "two  a    NaN\n",
       "     b    NaN\n",
       "     c    4.0\n",
       "     d    5.0\n",
       "     e    6.0\n",
       "dtype: float64"
      ]
     },
     "execution_count": 70,
     "metadata": {},
     "output_type": "execute_result"
    }
   ],
   "source": [
    "data2.unstack().stack(dropna=False)"
   ]
  },
  {
   "cell_type": "code",
   "execution_count": 78,
   "metadata": {},
   "outputs": [
    {
     "name": "stdout",
     "output_type": "stream",
     "text": [
      "     year  quarter   realgdp  realcons  realinv  realgovt  realdpi    cpi  \\\n",
      "0  1959.0      1.0  2710.349    1707.4  286.898   470.045   1886.9  28.98   \n",
      "1  1959.0      2.0  2778.801    1733.7  310.859   481.301   1919.7  29.15   \n",
      "2  1959.0      3.0  2775.488    1751.8  289.226   491.260   1916.4  29.35   \n",
      "3  1959.0      4.0  2785.204    1753.7  299.356   484.052   1931.3  29.37   \n",
      "4  1960.0      1.0  2847.699    1770.5  331.722   462.199   1955.5  29.54   \n",
      "5  1960.0      2.0  2834.390    1792.9  298.152   460.400   1966.1  29.55   \n",
      "6  1960.0      3.0  2839.022    1785.8  296.375   474.676   1967.8  29.75   \n",
      "7  1960.0      4.0  2802.616    1788.2  259.764   476.434   1966.6  29.84   \n",
      "8  1961.0      1.0  2819.264    1787.7  266.405   475.854   1984.5  29.81   \n",
      "9  1961.0      2.0  2872.005    1814.3  286.246   480.328   2014.4  29.92   \n",
      "\n",
      "      m1  tbilrate  unemp      pop  infl  realint  \n",
      "0  139.7      2.82    5.8  177.146  0.00     0.00  \n",
      "1  141.7      3.08    5.1  177.830  2.34     0.74  \n",
      "2  140.5      3.82    5.3  178.657  2.74     1.09  \n",
      "3  140.0      4.33    5.6  179.386  0.27     4.06  \n",
      "4  139.6      3.50    5.2  180.007  2.31     1.19  \n",
      "5  140.2      2.68    5.2  180.671  0.14     2.55  \n",
      "6  140.9      2.36    5.6  181.528  2.70    -0.34  \n",
      "7  141.1      2.29    6.3  182.287  1.21     1.08  \n",
      "8  142.1      2.37    6.8  182.992 -0.40     2.77  \n",
      "9  142.9      2.29    7.0  183.691  1.47     0.81  \n",
      "item         realgdp  infl  unemp\n",
      "date                             \n",
      "1959-03-31  2710.349  0.00    5.8\n",
      "1959-06-30  2778.801  2.34    5.1\n",
      "1959-09-30  2775.488  2.74    5.3\n",
      "1959-12-31  2785.204  0.27    5.6\n",
      "1960-03-31  2847.699  2.31    5.2\n",
      "1960-06-30  2834.390  0.14    5.2\n",
      "1960-09-30  2839.022  2.70    5.6\n",
      "1960-12-31  2802.616  1.21    6.3\n",
      "1961-03-31  2819.264 -0.40    6.8\n",
      "1961-06-30  2872.005  1.47    7.0\n"
     ]
    }
   ],
   "source": [
    "# * 长宽格式数据的转换\n",
    "#1\n",
    "data = pd.read_csv(\"./data/week6/data/macrodata.csv\")\n",
    "print(data.head(10))\n",
    "periods = pd.PeriodIndex(year=data.year, quarter=data.quarter, name=\"date\")\n",
    "data = DataFrame(data.to_records(), columns=pd.Index([\"realgdp\", \"infl\", \"unemp\"], name=\"item\"),\n",
    "                index = periods.to_timestamp('D', 'end'))\n",
    "print(data.head(10))"
   ]
  },
  {
   "cell_type": "code",
   "execution_count": 79,
   "metadata": {},
   "outputs": [
    {
     "name": "stdout",
     "output_type": "stream",
     "text": [
      "item        infl   realgdp  unemp\n",
      "date                             \n",
      "1959-03-31  0.00  2710.349    5.8\n",
      "1959-06-30  2.34  2778.801    5.1\n",
      "1959-09-30  2.74  2775.488    5.3\n",
      "1959-12-31  0.27  2785.204    5.6\n",
      "1960-03-31  2.31  2847.699    5.2\n",
      "1960-06-30  0.14  2834.390    5.2\n",
      "1960-09-30  2.70  2839.022    5.6\n",
      "1960-12-31  1.21  2802.616    6.3\n",
      "1961-03-31 -0.40  2819.264    6.8\n",
      "1961-06-30  1.47  2872.005    7.0\n"
     ]
    }
   ],
   "source": [
    "ldata = data.stack().reset_index().rename(columns={0: \"value\"})\n",
    "wdata = ldata.pivot(\"date\", \"item\", \"value\")\n",
    "print(wdata.head(10))"
   ]
  },
  {
   "cell_type": "code",
   "execution_count": 80,
   "metadata": {},
   "outputs": [
    {
     "name": "stdout",
     "output_type": "stream",
     "text": [
      "item        infl   realgdp  unemp\n",
      "date                             \n",
      "1959-03-31  0.00  2710.349    5.8\n",
      "1959-06-30  2.34  2778.801    5.1\n",
      "1959-09-30  2.74  2775.488    5.3\n",
      "1959-12-31  0.27  2785.204    5.6\n",
      "1960-03-31  2.31  2847.699    5.2\n",
      "1960-06-30  0.14  2834.390    5.2\n",
      "1960-09-30  2.70  2839.022    5.6\n",
      "1960-12-31  1.21  2802.616    6.3\n",
      "1961-03-31 -0.40  2819.264    6.8\n",
      "1961-06-30  1.47  2872.005    7.0\n"
     ]
    }
   ],
   "source": [
    "#2\n",
    "pivoted = ldata.pivot('date', 'item', 'value')\n",
    "print(pivoted.head(10))"
   ]
  },
  {
   "cell_type": "code",
   "execution_count": 81,
   "metadata": {},
   "outputs": [
    {
     "name": "stdout",
     "output_type": "stream",
     "text": [
      "    k1  k2\n",
      "0  one   1\n",
      "1  one   1\n",
      "2  one   2\n",
      "3  two   3\n",
      "4  two   3\n",
      "5  two   4\n",
      "6  two   4\n",
      "0    False\n",
      "1     True\n",
      "2    False\n",
      "3    False\n",
      "4     True\n",
      "5    False\n",
      "6     True\n",
      "dtype: bool\n",
      "    k1  k2\n",
      "0  one   1\n",
      "1  one   1\n",
      "2  one   2\n",
      "3  two   3\n",
      "4  two   3\n",
      "5  two   4\n",
      "6  two   4\n"
     ]
    }
   ],
   "source": [
    "# 去除重复数据\n",
    "data = DataFrame({\"k1\": [\"one\"] * 3 + [\"two\"] * 4,\n",
    "                 \"k2\": [1, 1, 2, 3, 3, 4, 4]})\n",
    "print(data)\n",
    "print(data.duplicated())\n",
    "data.drop_duplicates()\n",
    "print(data)"
   ]
  },
  {
   "cell_type": "code",
   "execution_count": 84,
   "metadata": {},
   "outputs": [
    {
     "data": {
      "text/html": [
       "<div>\n",
       "<style>\n",
       "    .dataframe thead tr:only-child th {\n",
       "        text-align: right;\n",
       "    }\n",
       "\n",
       "    .dataframe thead th {\n",
       "        text-align: left;\n",
       "    }\n",
       "\n",
       "    .dataframe tbody tr th {\n",
       "        vertical-align: top;\n",
       "    }\n",
       "</style>\n",
       "<table border=\"1\" class=\"dataframe\">\n",
       "  <thead>\n",
       "    <tr style=\"text-align: right;\">\n",
       "      <th></th>\n",
       "      <th>k1</th>\n",
       "      <th>k2</th>\n",
       "      <th>v1</th>\n",
       "    </tr>\n",
       "  </thead>\n",
       "  <tbody>\n",
       "    <tr>\n",
       "      <th>0</th>\n",
       "      <td>one</td>\n",
       "      <td>1</td>\n",
       "      <td>0</td>\n",
       "    </tr>\n",
       "    <tr>\n",
       "      <th>2</th>\n",
       "      <td>one</td>\n",
       "      <td>2</td>\n",
       "      <td>2</td>\n",
       "    </tr>\n",
       "    <tr>\n",
       "      <th>3</th>\n",
       "      <td>two</td>\n",
       "      <td>3</td>\n",
       "      <td>3</td>\n",
       "    </tr>\n",
       "    <tr>\n",
       "      <th>5</th>\n",
       "      <td>two</td>\n",
       "      <td>4</td>\n",
       "      <td>5</td>\n",
       "    </tr>\n",
       "  </tbody>\n",
       "</table>\n",
       "</div>"
      ],
      "text/plain": [
       "    k1  k2  v1\n",
       "0  one   1   0\n",
       "2  one   2   2\n",
       "3  two   3   3\n",
       "5  two   4   5"
      ]
     },
     "execution_count": 84,
     "metadata": {},
     "output_type": "execute_result"
    }
   ],
   "source": [
    "data[\"v1\"] = range(7)\n",
    "data.drop_duplicates?\n",
    "data.drop_duplicates([\"k1\", \"k2\"])"
   ]
  },
  {
   "cell_type": "code",
   "execution_count": null,
   "metadata": {
    "collapsed": true
   },
   "outputs": [],
   "source": [
    "# 利用函数或者映射进行数据转换\n",
    "#1\n",
    "data = DataFrame({\"food\": ['bacon']})"
   ]
  }
 ],
 "metadata": {
  "kernelspec": {
   "display_name": "Python 3",
   "language": "python",
   "name": "python3"
  },
  "language_info": {
   "codemirror_mode": {
    "name": "ipython",
    "version": 3
   },
   "file_extension": ".py",
   "mimetype": "text/x-python",
   "name": "python",
   "nbconvert_exporter": "python",
   "pygments_lexer": "ipython3",
   "version": "3.6.1"
  }
 },
 "nbformat": 4,
 "nbformat_minor": 2
}
